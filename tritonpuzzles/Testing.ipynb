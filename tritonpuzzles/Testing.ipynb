{
 "cells": [
  {
   "cell_type": "code",
   "execution_count": 6,
   "id": "858479bd-9406-42ce-90fd-d92c78add0e7",
   "metadata": {},
   "outputs": [
    {
     "data": {
      "text/plain": [
       "tensor([10., 11., 12., 13., 14., 15., 16., 17., 18., 19.], device='cuda:0')"
      ]
     },
     "execution_count": 6,
     "metadata": {},
     "output_type": "execute_result"
    }
   ],
   "source": [
    "import torch\n",
    "import triton\n",
    "from torch import Tensor\n",
    "import triton.language as tl\n",
    "import jaxtyping\n",
    "from jaxtyping import Float32, Int32\n",
    "\n",
    "\"\"\"def add_spec(x: Float32[Tensor, \"32\"]) -> Float32[Tensor, \"32\"]:\n",
    "    z = torch.empty_like(x, device='cuda')\n",
    "    add_kernel[(triton.cdiv(x.shape[0], 1024),)](x, z, x.shape[0], 1024)\n",
    "    return z\"\"\"\n",
    "\n",
    "def add_spec(x: Float32[Tensor, \"32\"]) -> Float32[Tensor, \"32\"]:\n",
    "    \"This is the spec that you should implement. Uses typing to define sizes.\"\n",
    "    return x + 10.\n",
    "\n",
    "@triton.jit\n",
    "def add_kernel(x_ptr, z_ptr, N0, B0: tl.constexpr):\n",
    "    pid = tl.program_id(0)\n",
    "    \n",
    "    range = tl.arange(0, B0)\n",
    "    x = tl.load(x_ptr + pid * B0 + range, mask=range < N0)\n",
    "    z = x + 10\n",
    "    tl.store(z_ptr + pid * B0 + range, z, mask=range < N0)\n",
    "\n",
    "x = torch.zeros((10), device='cuda')\n",
    "for i in range(10):\n",
    "    x[i] = i\n",
    "add_spec(x)"
   ]
  },
  {
   "cell_type": "code",
   "execution_count": 9,
   "id": "989e0a9b-b7c2-40f5-8ebf-45b96e555e19",
   "metadata": {},
   "outputs": [
    {
     "name": "stdout",
     "output_type": "stream",
     "text": [
      "x: jaxtyping.Float32[Tensor, '32']\n",
      "x_ptr ([32], <Parameter \"x: jaxtyping.Float32[Tensor, '32']\">)\n",
      "z_ptr ([32], None)\n",
      "Results match: True\n",
      "Correct!\n"
     ]
    },
    {
     "data": {
      "text/html": [
       "\n",
       "    <video alt=\"test\" controls autoplay=1>\n",
       "        <source src=\"https://openpuppies.com/mp4/ZNem5o3.mp4\"  type=\"video/mp4\">\n",
       "    </video>\n",
       "    "
      ],
      "text/plain": [
       "<IPython.core.display.HTML object>"
      ]
     },
     "execution_count": 9,
     "metadata": {},
     "output_type": "execute_result"
    }
   ],
   "source": [
    "test(add_kernel, add_spec, nelem={\"N0\": 32})"
   ]
  },
  {
   "cell_type": "code",
   "execution_count": 138,
   "id": "cb2909c6-7e8d-41f0-8d8e-f6e529268c66",
   "metadata": {},
   "outputs": [],
   "source": [
    "import inspect\n",
    "\n",
    "def test(puzzle, puzzle_spec, nelem={}, B={\"B0\": 32}):\n",
    "    B = dict(B)\n",
    "    if \"N1\" in nelem and \"B1\" not in B:\n",
    "        B[\"B1\"] = 32\n",
    "    if \"N2\" in nelem and \"B2\" not in B:\n",
    "        B[\"B2\"] = 32\n",
    "\n",
    "    torch.manual_seed(0)\n",
    "    signature = inspect.signature(puzzle_spec)\n",
    "    args = {}\n",
    "    for n, p in signature.parameters.items():\n",
    "        print(p)\n",
    "        args[n + \"_ptr\"] = ([d.size for d in p.annotation.dims], p)\n",
    "    args[\"z_ptr\"] = ([d.size for d in signature.return_annotation.dims], None)\n",
    "\n",
    "    tt_args = []\n",
    "    for k, (v, t) in args.items():\n",
    "        tt_args.append(torch.rand(*v, device='cuda') - 0.5)\n",
    "        if t is not None and t.annotation.dtypes[0] == \"int32\":\n",
    "            tt_args[-1] = torch.randint(-100000, 100000, v)\n",
    "    grid = lambda meta: (triton.cdiv(nelem[\"N0\"], meta[\"B0\"]),\n",
    "                         triton.cdiv(nelem.get(\"N1\", 1), meta.get(\"B1\", 1)),\n",
    "                         triton.cdiv(nelem.get(\"N2\", 1), meta.get(\"B2\", 1)))\n",
    "\n",
    "    for k, v in args.items():\n",
    "        print(k, v)\n",
    "    tt_args[-1] = torch.zeros(tt_args[-1].shape, device='cuda')\n",
    "    puzzle[grid](*tt_args, **B, **nelem)\n",
    "    z = tt_args[-1]\n",
    "    tt_args = tt_args[:-1]\n",
    "    z_ = puzzle_spec(*tt_args)\n",
    "\n",
    "    print(z.shape, z_.shape)\n",
    "    \n",
    "    match = torch.allclose(z, z_, rtol=1e-3, atol=1e-3)\n",
    "    print(\"Results match:\",  match)\n",
    "    failures = False\n",
    "    if not match or failures:\n",
    "        print(\"Invalid Access:\", failures)\n",
    "        print(\"Yours:\", z)\n",
    "        print(\"Spec:\", z_)\n",
    "        print(torch.isclose(z, z_))\n",
    "        return z, z_, torch.isclose(z, z_)\n",
    "    # PUPPIES!\n",
    "    from IPython.display import HTML\n",
    "    import random\n",
    "    print(\"Correct!\")\n",
    "    pups = [\n",
    "    \"2m78jPG\",\n",
    "    \"p, n1e9TO\",\n",
    "    \"MQCIwzT\",\n",
    "    \"udLK6FS\",\n",
    "    \"ZNem5o3\",\n",
    "    \"DS2IZ6K\",\n",
    "    \"aydRUz8\",\n",
    "    \"MVUdQYK\",\n",
    "    \"kLvno0p\",\n",
    "    \"wScLiVz\",\n",
    "    \"Z0TII8i\",\n",
    "    \"F1SChho\",\n",
    "    \"9hRi2jN\",\n",
    "    \"lvzRF3W\",\n",
    "    \"fqHxOGI\",\n",
    "    \"1xeUYme\",\n",
    "    \"6tVqKyM\",\n",
    "    \"CCxZ6Wr\",\n",
    "    \"lMW0OPQ\",\n",
    "    \"wHVpHVG\",\n",
    "    \"Wj2PGRl\",\n",
    "    \"HlaTE8H\",\n",
    "    \"k5jALH0\",\n",
    "    \"3V37Hqr\",\n",
    "    \"Eq2uMTA\",\n",
    "    \"Vy9JShx\",\n",
    "    \"g9I2ZmK\",\n",
    "    \"Nu4RH7f\",\n",
    "    \"sWp0Dqd\",\n",
    "    \"bRKfspn\",\n",
    "    \"qawCMl5\",\n",
    "    \"2F6j2B4\",\n",
    "    \"fiJxCVA\",\n",
    "    \"pCAIlxD\",\n",
    "    \"zJx2skh\",\n",
    "    \"2Gdl1u7\",\n",
    "    \"aJJAY4c\",\n",
    "    \"ros6RLC\",\n",
    "    \"DKLBJh7\",\n",
    "    \"eyxH0Wc\",\n",
    "    \"rJEkEw4\"]\n",
    "    return HTML(\"\"\"\n",
    "    <video alt=\"test\" controls autoplay=1>\n",
    "        <source src=\"https://openpuppies.com/mp4/%s.mp4\"  type=\"video/mp4\">\n",
    "    </video>\n",
    "    \"\"\"%(random.sample(pups, 1)[0]))"
   ]
  },
  {
   "cell_type": "code",
   "execution_count": 63,
   "id": "0b1516b9-32ae-4553-b7f9-49c256a825e0",
   "metadata": {},
   "outputs": [
    {
     "data": {
      "text/plain": [
       "tensor([[0],\n",
       "        [1],\n",
       "        [2],\n",
       "        [3],\n",
       "        [4],\n",
       "        [5],\n",
       "        [6],\n",
       "        [7]])"
      ]
     },
     "execution_count": 63,
     "metadata": {},
     "output_type": "execute_result"
    }
   ],
   "source": [
    "i_range = torch.arange(0, 8)[:, None]\n",
    "i_range"
   ]
  },
  {
   "cell_type": "code",
   "execution_count": 11,
   "id": "f7562166-b0dc-4ead-97ef-fba250810e46",
   "metadata": {},
   "outputs": [
    {
     "data": {
      "text/plain": [
       "tensor([[0, 1, 2, 3]])"
      ]
     },
     "execution_count": 11,
     "metadata": {},
     "output_type": "execute_result"
    }
   ],
   "source": [
    "j_range = torch.arange(0, 4)[None, :]\n",
    "j_range"
   ]
  },
  {
   "cell_type": "code",
   "execution_count": 12,
   "id": "2f09c1f2-c19c-4f8a-ab92-bd0694395cbb",
   "metadata": {},
   "outputs": [
    {
     "data": {
      "text/plain": [
       "tensor([[ 0,  1,  2,  3],\n",
       "        [ 4,  5,  6,  7],\n",
       "        [ 8,  9, 10, 11],\n",
       "        [12, 13, 14, 15],\n",
       "        [16, 17, 18, 19],\n",
       "        [20, 21, 22, 23],\n",
       "        [24, 25, 26, 27],\n",
       "        [28, 29, 30, 31]])"
      ]
     },
     "execution_count": 12,
     "metadata": {},
     "output_type": "execute_result"
    }
   ],
   "source": [
    "i_range * 4 + j_range"
   ]
  },
  {
   "cell_type": "code",
   "execution_count": 13,
   "id": "b6b53245-495b-416a-89c6-465b04880fd7",
   "metadata": {},
   "outputs": [
    {
     "name": "stdout",
     "output_type": "stream",
     "text": [
      "x: jaxtyping.Float32[Tensor, '32']\n",
      "y: jaxtyping.Float32[Tensor, '32']\n",
      "x_ptr ([32], <Parameter \"x: jaxtyping.Float32[Tensor, '32']\">)\n",
      "y_ptr ([32], <Parameter \"y: jaxtyping.Float32[Tensor, '32']\">)\n",
      "z_ptr ([32, 32], None)\n",
      "Results match: True\n",
      "Correct!\n"
     ]
    },
    {
     "data": {
      "text/html": [
       "\n",
       "    <video alt=\"test\" controls autoplay=1>\n",
       "        <source src=\"https://openpuppies.com/mp4/qawCMl5.mp4\"  type=\"video/mp4\">\n",
       "    </video>\n",
       "    "
      ],
      "text/plain": [
       "<IPython.core.display.HTML object>"
      ]
     },
     "execution_count": 13,
     "metadata": {},
     "output_type": "execute_result"
    }
   ],
   "source": [
    "def add_vec_spec(x: Float32[Tensor, \"32\"], y: Float32[Tensor, \"32\"]) -> Float32[Tensor, \"32 32\"]:\n",
    "    return x[None, :] + y[:, None]\n",
    "\n",
    "@triton.jit\n",
    "def add_vec_kernel(x_ptr, y_ptr, z_ptr, N0, N1, B0: tl.constexpr, B1: tl.constexpr):\n",
    "    x = tl.load(x_ptr + tl.arange(0, B0))\n",
    "    y = tl.load(y_ptr + tl.arange(0, B1))\n",
    "\n",
    "    z = x[None, :] + y[:, None]\n",
    "\n",
    "    tl.store(z_ptr + tl.arange(0, B1)[:, None] * B0 + tl.arange(0, B0)[None, :], z)\n",
    "\n",
    "test(add_vec_kernel, add_vec_spec, nelem={\"N0\": 32, \"N1\": 32})"
   ]
  },
  {
   "cell_type": "code",
   "execution_count": 14,
   "id": "3bc966fd-12d4-41aa-8b5b-00606666cef3",
   "metadata": {},
   "outputs": [
    {
     "data": {
      "text/plain": [
       "tensor([[0, 1, 2, 3],\n",
       "        [4, 5, 6, 7]])"
      ]
     },
     "execution_count": 14,
     "metadata": {},
     "output_type": "execute_result"
    }
   ],
   "source": [
    "torch.arange(0, 2)[:, None] * 4 + torch.arange(0, 4)[None, :]"
   ]
  },
  {
   "cell_type": "code",
   "execution_count": 15,
   "id": "fe3035f0-7fd8-4717-b4f1-ea0be808f77a",
   "metadata": {},
   "outputs": [
    {
     "name": "stdout",
     "output_type": "stream",
     "text": [
      "tensor([0, 1, 2, 3], device='cuda:0')\n",
      "tensor([0, 1], device='cuda:0')\n"
     ]
    },
    {
     "data": {
      "text/plain": [
       "tensor([[0, 1, 2, 3],\n",
       "        [1, 2, 3, 4]], device='cuda:0')"
      ]
     },
     "execution_count": 15,
     "metadata": {},
     "output_type": "execute_result"
    }
   ],
   "source": [
    "x = torch.arange(4, device='cuda')\n",
    "y = torch.arange(2, device='cuda')\n",
    "print(x)\n",
    "print(y)\n",
    "add_vec_spec(x, y)"
   ]
  },
  {
   "cell_type": "code",
   "execution_count": 16,
   "id": "1240333d-3e81-4847-8c29-690a240b10f3",
   "metadata": {},
   "outputs": [
    {
     "data": {
      "text/plain": [
       "tensor([[0., 1., 2., 3.],\n",
       "        [1., 2., 3., 4.]], device='cuda:0')"
      ]
     },
     "execution_count": 16,
     "metadata": {},
     "output_type": "execute_result"
    }
   ],
   "source": [
    "z = torch.zeros((2,4), device='cuda')\n",
    "add_vec_kernel[(1,1,1,)](x, y, z, 4,2,4,2)\n",
    "z"
   ]
  },
  {
   "cell_type": "markdown",
   "id": "2c8a557f-41bc-4c84-8574-24fc4d187640",
   "metadata": {},
   "source": [
    "## Puzzle 4: Outer Vector Add Block"
   ]
  },
  {
   "cell_type": "code",
   "execution_count": 167,
   "id": "087791fd-2ad8-4aed-9734-3127f1386f4a",
   "metadata": {},
   "outputs": [
    {
     "name": "stdout",
     "output_type": "stream",
     "text": [
      "x: jaxtyping.Float32[Tensor, '64']\n",
      "y: jaxtyping.Float32[Tensor, '64']\n",
      "x_ptr ([64], <Parameter \"x: jaxtyping.Float32[Tensor, '64']\">)\n",
      "y_ptr ([64], <Parameter \"y: jaxtyping.Float32[Tensor, '64']\">)\n",
      "z_ptr ([64, 64], None)\n",
      "torch.Size([64, 64]) torch.Size([64, 64])\n",
      "Results match: False\n",
      "Invalid Access: False\n",
      "Yours: tensor([[ 0.3713,  0.4889, -0.0028,  ...,  0.4874,  0.0382,  0.4938],\n",
      "        [ 0.5404,  0.7213, -0.1596,  ...,  0.1490, -0.0902, -0.0299],\n",
      "        [-0.2665, -0.1488, -0.6406,  ...,  0.0747, -0.3745,  0.0811],\n",
      "        ...,\n",
      "        [ 0.0000,  0.0000,  0.0000,  ...,  0.0000,  0.0000,  0.0000],\n",
      "        [ 0.0000,  0.0000,  0.0000,  ...,  0.0000,  0.0000,  0.0000],\n",
      "        [ 0.0000,  0.0000,  0.0000,  ...,  0.0000,  0.0000,  0.0000]],\n",
      "       device='cuda:0')\n",
      "Spec: tensor([[ 0.3713,  0.4889, -0.0028,  ...,  0.6522,  0.4130,  0.4733],\n",
      "        [ 0.1900,  0.3076, -0.1841,  ...,  0.4709,  0.2318,  0.2920],\n",
      "        [-0.1319, -0.0143, -0.5060,  ...,  0.1490, -0.0902, -0.0299],\n",
      "        ...,\n",
      "        [-0.0027,  0.1150, -0.3768,  ...,  0.2782,  0.0391,  0.0993],\n",
      "        [ 0.2618,  0.3794, -0.1123,  ...,  0.5427,  0.3035,  0.3638],\n",
      "        [ 0.3186,  0.4362, -0.0555,  ...,  0.5995,  0.3603,  0.4206]],\n",
      "       device='cuda:0')\n",
      "tensor([[ True,  True,  True,  ..., False, False, False],\n",
      "        [False, False, False,  ..., False, False, False],\n",
      "        [False, False, False,  ..., False, False, False],\n",
      "        ...,\n",
      "        [False, False, False,  ..., False, False, False],\n",
      "        [False, False, False,  ..., False, False, False],\n",
      "        [False, False, False,  ..., False, False, False]], device='cuda:0')\n"
     ]
    }
   ],
   "source": [
    "import torch\n",
    "import triton\n",
    "from torch import Tensor\n",
    "import triton.language as tl\n",
    "import jaxtyping\n",
    "from jaxtyping import Float32, Int32\n",
    "\n",
    "#100, 90\n",
    "n = 64\n",
    "m = 64\n",
    "def add_vec_block_spec(x: Float32[Tensor, str(n)], y: Float32[Tensor, str(m)]) -> Float32[Tensor, str(m) + \" \" + str(n)]:\n",
    "    return x[None, :] + y[:, None]\n",
    "\n",
    "import os\n",
    "os.environ[\"TRITON_INTERPRET\"] = \"1\"\n",
    "\n",
    "@triton.jit\n",
    "def add_vec_block_kernel(x_ptr, y_ptr, z_ptr, N0, N1, B0: tl.constexpr, B1: tl.constexpr):\n",
    "    pid_0 = tl.program_id(0)\n",
    "    pid_1 = tl.program_id(1)\n",
    "    \n",
    "    n_x_ptr = x_ptr + pid_0 * B0\n",
    "    n_y_ptr = y_ptr + pid_1 * B1\n",
    "    n_z_ptr = z_ptr + pid_1 * B1 * N0 + pid_0 * B0 * 1\n",
    "\n",
    "    x_rg = tl.arange(0, B0)\n",
    "    y_rg = tl.arange(0, B1)\n",
    "    x = tl.load(x_ptr + B0 * pid_0 + x_rg, mask=B0 * pid_0 + x_rg < N0)\n",
    "    y = tl.load(y_ptr + B1 * pid_1 + y_rg, mask=B1 * pid_1 + y_rg < N1)\n",
    "\n",
    "    z = x[None, :] + y[:, None]\n",
    "\n",
    "    i_rng = tl.arange(0, B1)[:, None]\n",
    "    j_rng = tl.arange(0, B0)[None, :]\n",
    "\n",
    "    i_mask_rng = (tl.arange(0, B1) + B1 * pid_1)[:, None]\n",
    "    j_mask_rng = (tl.arange(0, B0) + B0 * pid_0)[None, :]\n",
    "\n",
    "    #nums = tl.broadcast_to((tl.arange(0, 32))[:, None], (32, 32))\n",
    "\n",
    "    gridblock = i_rng * B0 + j_rng\n",
    "    \n",
    "    tl.store(n_z_ptr + gridblock, z)#, mask=(i_mask_rng < N1) & (j_mask_rng < N0))\n",
    "    \n",
    "z, z_, allclose = test(add_vec_block_kernel, add_vec_block_spec, nelem={\"N0\": n, \"N1\": m})#, nelem={\"N0\": 100, \"N1\": 90})\n",
    "\n",
    "#for i in range(m):\n",
    "#    print(z[i])"
   ]
  },
  {
   "cell_type": "code",
   "execution_count": 137,
   "id": "0d423faa-3858-46fc-82fe-fcefaf1726c7",
   "metadata": {},
   "outputs": [
    {
     "name": "stdout",
     "output_type": "stream",
     "text": [
      "tensor([ 3.7129e-01,  4.8892e-01, -2.8284e-03,  9.1232e-01,  9.1810e-01,\n",
      "         7.6897e-01,  3.8726e-01,  7.9250e-01,  2.0128e-01,  8.8183e-01,\n",
      "         9.0578e-02,  4.7464e-02,  3.8146e-01,  9.3231e-01,  1.8154e-01,\n",
      "         1.6619e-01,  8.6319e-01,  4.1091e-01,  3.2922e-01,  5.1761e-01,\n",
      "         8.0216e-01,  1.8218e-01,  7.4066e-01,  4.0123e-01,  1.8391e-01,\n",
      "         6.3280e-01,  1.3760e-01,  3.9723e-01,  9.6491e-01,  6.6867e-01,\n",
      "         2.1943e-01,  6.7505e-01,  1.9002e-01,  3.0765e-01, -1.8410e-01,\n",
      "         7.3105e-01,  7.3682e-01,  5.8770e-01,  2.0598e-01,  6.1123e-01,\n",
      "         2.0013e-02,  7.0056e-01, -9.0694e-02, -1.3381e-01,  2.0019e-01,\n",
      "         7.5104e-01,  2.7096e-04, -1.5079e-02,  6.8191e-01,  2.2964e-01,\n",
      "         1.4795e-01,  3.3634e-01,  6.2089e-01,  9.0653e-04,  5.5939e-01,\n",
      "         2.1996e-01,  2.6426e-03,  4.5152e-01, -4.3669e-02,  2.1596e-01,\n",
      "         7.8364e-01,  4.8739e-01,  3.8154e-02,  4.9378e-01], device='cuda:0')\n",
      "tensor([-0.4582, -0.3405, -0.8323,  0.0829,  0.0886, -0.0605, -0.4422, -0.0370,\n",
      "        -0.6282,  0.0524, -0.7389, -0.7820, -0.4480,  0.1028, -0.6479, -0.6633,\n",
      "         0.0337, -0.4186, -0.5002, -0.3119, -0.0273, -0.6473, -0.0888, -0.4282,\n",
      "        -0.6455, -0.1967, -0.6919, -0.4322,  0.1354, -0.1608, -0.6100, -0.1544,\n",
      "        -0.1078,  0.0731, -0.8078, -0.7822, -0.1350,  0.0906, -0.4926, -0.6357,\n",
      "        -0.0788, -0.2181, -0.6496, -0.1527,  0.1036, -0.7978, -0.5215, -0.7956,\n",
      "        -0.1542, -0.2930, -0.8471, -0.0021, -0.3385, -0.3555, -0.7428, -0.5821,\n",
      "        -0.3233,  0.0010, -0.0108, -0.6727, -0.2212, -0.1773, -0.4164, -0.3562],\n",
      "       device='cuda:0')\n"
     ]
    },
    {
     "ename": "IndexError",
     "evalue": "index 64 is out of bounds for dimension 0 with size 64",
     "output_type": "error",
     "traceback": [
      "\u001b[0;31m---------------------------------------------------------------------------\u001b[0m",
      "\u001b[0;31mIndexError\u001b[0m                                Traceback (most recent call last)",
      "Cell \u001b[0;32mIn[137], line 3\u001b[0m\n\u001b[1;32m      1\u001b[0m \u001b[38;5;28mprint\u001b[39m(z[\u001b[38;5;241m0\u001b[39m])\n\u001b[1;32m      2\u001b[0m \u001b[38;5;28mprint\u001b[39m(z[\u001b[38;5;241m32\u001b[39m])\n\u001b[0;32m----> 3\u001b[0m \u001b[38;5;28mprint\u001b[39m(\u001b[43mz\u001b[49m\u001b[43m[\u001b[49m\u001b[38;5;241;43m64\u001b[39;49m\u001b[43m]\u001b[49m)\n",
      "\u001b[0;31mIndexError\u001b[0m: index 64 is out of bounds for dimension 0 with size 64"
     ]
    }
   ],
   "source": [
    "print(z[0])\n",
    "print(z[32])\n",
    "print(z[64])"
   ]
  },
  {
   "cell_type": "code",
   "execution_count": 159,
   "id": "12b742dd-9caa-4749-8162-9f12ab382beb",
   "metadata": {},
   "outputs": [
    {
     "data": {
      "text/plain": [
       "tensor([32, 33, 34, 35, 36, 37, 38, 39, 40, 41, 42, 43, 44, 45, 46, 47, 48, 49,\n",
       "        50, 51, 52, 53, 54, 55, 56, 57, 58, 59, 60, 61, 62, 63])"
      ]
     },
     "execution_count": 159,
     "metadata": {},
     "output_type": "execute_result"
    }
   ],
   "source": [
    "N0 = 64\n",
    "N1 = 64\n",
    "B0 = 32\n",
    "B1 = 32\n",
    "pid_0 = 1\n",
    "pid_1 = 1\n",
    "\n",
    "x_rg = torch.arange(0, B0)\n",
    "y_rg = torch.arange(0, B1)\n",
    "\n",
    "B0 * pid_0 + x_rg"
   ]
  },
  {
   "cell_type": "code",
   "execution_count": 160,
   "id": "874ea6fe-040e-4a7e-bc80-5ab7ed785c39",
   "metadata": {},
   "outputs": [
    {
     "data": {
      "text/plain": [
       "tensor([32, 33, 34, 35, 36, 37, 38, 39, 40, 41, 42, 43, 44, 45, 46, 47, 48, 49,\n",
       "        50, 51, 52, 53, 54, 55, 56, 57, 58, 59, 60, 61, 62, 63])"
      ]
     },
     "execution_count": 160,
     "metadata": {},
     "output_type": "execute_result"
    }
   ],
   "source": [
    "B1 * pid_1 + y_rg"
   ]
  },
  {
   "cell_type": "code",
   "execution_count": 161,
   "id": "b9cda5c5-9717-448a-b656-91b0c51ef10b",
   "metadata": {},
   "outputs": [
    {
     "data": {
      "text/plain": [
       "2080"
      ]
     },
     "execution_count": 161,
     "metadata": {},
     "output_type": "execute_result"
    }
   ],
   "source": [
    "pid_1 * B1 * N0 + pid_0 * B0 * 1"
   ]
  },
  {
   "cell_type": "code",
   "execution_count": 166,
   "id": "dcfe1a8c-0b74-40ea-b439-7be2bb627914",
   "metadata": {},
   "outputs": [
    {
     "data": {
      "text/plain": [
       "tensor([[   0,    1,    2,  ...,   29,   30,   31],\n",
       "        [  32,   33,   34,  ...,   61,   62,   63],\n",
       "        [  64,   65,   66,  ...,   93,   94,   95],\n",
       "        ...,\n",
       "        [ 928,  929,  930,  ...,  957,  958,  959],\n",
       "        [ 960,  961,  962,  ...,  989,  990,  991],\n",
       "        [ 992,  993,  994,  ..., 1021, 1022, 1023]])"
      ]
     },
     "execution_count": 166,
     "metadata": {},
     "output_type": "execute_result"
    }
   ],
   "source": [
    "i_rng = torch.arange(0, B1)[:, None]\n",
    "j_rng = torch.arange(0, B0)[None, :]\n",
    "\n",
    "i_rng * B0 + j_rng"
   ]
  },
  {
   "cell_type": "code",
   "execution_count": 132,
   "id": "1522cf6d-1309-4309-9f1f-be02e7d4ec45",
   "metadata": {},
   "outputs": [
    {
     "ename": "IndexError",
     "evalue": "index 65 is out of bounds for dimension 0 with size 64",
     "output_type": "error",
     "traceback": [
      "\u001b[0;31m---------------------------------------------------------------------------\u001b[0m",
      "\u001b[0;31mIndexError\u001b[0m                                Traceback (most recent call last)",
      "Cell \u001b[0;32mIn[132], line 2\u001b[0m\n\u001b[1;32m      1\u001b[0m \u001b[38;5;28;01mfor\u001b[39;00m i \u001b[38;5;129;01min\u001b[39;00m \u001b[38;5;28mrange\u001b[39m(\u001b[38;5;241m65\u001b[39m, \u001b[38;5;241m90\u001b[39m):\n\u001b[0;32m----> 2\u001b[0m     \u001b[38;5;28mprint\u001b[39m(i, \u001b[43mz\u001b[49m\u001b[43m[\u001b[49m\u001b[43mi\u001b[49m\u001b[43m]\u001b[49m)\n",
      "\u001b[0;31mIndexError\u001b[0m: index 65 is out of bounds for dimension 0 with size 64"
     ]
    }
   ],
   "source": [
    "for i in range(65, 90):\n",
    "    print(i, z[i])"
   ]
  },
  {
   "cell_type": "code",
   "execution_count": 119,
   "id": "62e6d6de-b4c6-4625-80bf-1bd4d28c071d",
   "metadata": {},
   "outputs": [
    {
     "data": {
      "text/plain": [
       "tensor([[ True],\n",
       "        [ True],\n",
       "        [ True],\n",
       "        [ True],\n",
       "        [ True],\n",
       "        [ True],\n",
       "        [ True],\n",
       "        [ True],\n",
       "        [ True],\n",
       "        [ True],\n",
       "        [ True],\n",
       "        [ True],\n",
       "        [ True],\n",
       "        [ True],\n",
       "        [ True],\n",
       "        [ True],\n",
       "        [ True],\n",
       "        [ True],\n",
       "        [ True],\n",
       "        [ True],\n",
       "        [ True],\n",
       "        [ True],\n",
       "        [ True],\n",
       "        [ True],\n",
       "        [ True],\n",
       "        [ True],\n",
       "        [False],\n",
       "        [False],\n",
       "        [False],\n",
       "        [False],\n",
       "        [False],\n",
       "        [False]])"
      ]
     },
     "execution_count": 119,
     "metadata": {},
     "output_type": "execute_result"
    }
   ],
   "source": [
    "B1 = 32\n",
    "pid_1 = 2\n",
    "(torch.arange(0, B1) + B1 * pid_1)[:, None] < 90"
   ]
  },
  {
   "cell_type": "code",
   "execution_count": null,
   "id": "e6f6a0c3-a310-4e24-8404-b59bb6c2635b",
   "metadata": {},
   "outputs": [],
   "source": [
    "B1 = 32\n",
    "pid_1 = 2\n",
    "(torch.arange(0, B1) + B1 * pid_1)[:, None] < 90"
   ]
  },
  {
   "cell_type": "code",
   "execution_count": 110,
   "id": "9e7774fa-5f88-431c-bfa9-dd76ab338577",
   "metadata": {},
   "outputs": [
    {
     "data": {
      "text/plain": [
       "tensor([[ 0,  0,  0,  ...,  0,  0,  0],\n",
       "        [ 1,  1,  1,  ...,  1,  1,  1],\n",
       "        [ 2,  2,  2,  ...,  2,  2,  2],\n",
       "        ...,\n",
       "        [29, 29, 29,  ..., 29, 29, 29],\n",
       "        [30, 30, 30,  ..., 30, 30, 30],\n",
       "        [31, 31, 31,  ..., 31, 31, 31]])"
      ]
     },
     "execution_count": 110,
     "metadata": {},
     "output_type": "execute_result"
    }
   ],
   "source": [
    "torch.broadcast_to((torch.arange(0, 32))[:, None], (32, 32))"
   ]
  },
  {
   "cell_type": "code",
   "execution_count": 87,
   "id": "366d0ec8-d77a-4148-825b-689b761165be",
   "metadata": {},
   "outputs": [
    {
     "name": "stdout",
     "output_type": "stream",
     "text": [
      "0 0 0\n",
      "2 0 2\n",
      "3 1 0\n",
      "5 1 2\n",
      "6 2 0\n",
      "8 2 2\n",
      "9 3 0\n",
      "11 3 2\n"
     ]
    }
   ],
   "source": [
    "B0 = 1\n",
    "B1 = 2\n",
    "N0 = 4\n",
    "N1 = 3\n",
    "for i in range(triton.cdiv(N0, B0)):\n",
    "    for j in range(triton.cdiv(N1, B1)):\n",
    "        idx = i * N1 + j * B1\n",
    "        print(idx, idx // N1, idx % N1)"
   ]
  },
  {
   "cell_type": "code",
   "execution_count": null,
   "id": "952720e9-3840-4883-a8c0-b0c155882aff",
   "metadata": {},
   "outputs": [],
   "source": [
    "def add_vec_block_kernel(pid_0, pid_1, x_ptr, y_ptr, z_ptr, N0, N1, B0: tl.constexpr, B1: tl.constexpr):\n",
    "    n_x_ptr = x_ptr + pid_0 * B0\n",
    "    n_y_ptr = y_ptr + pid_1 * B1\n",
    "    n_z_ptr = z_ptr + pid_0 * N1 + pid_1 * B1\n",
    "\n",
    "    x_rg = torch.arange(0, B0)\n",
    "    y_rg = torch.arange(0, B1)\n",
    "    x = torch.load(x_ptr + x_rg)#, mask=x_rg < N0)\n",
    "    y = torch.load(y_ptr + y_rg)#, mask=y_rg < N1)\n",
    "\n",
    "    z = x[None, :] + y[:, None]\n",
    "\n",
    "    i_rng = torch.arange(0, B1)[:, None]\n",
    "    j_rng = torch.arange(0, B0)[None, :]\n",
    "    \n",
    "    tl.store(n_z_ptr + i_rng * B0 + j_rng, z)#, mask=(i_rng < N1) & (j_rng < N0))"
   ]
  },
  {
   "cell_type": "code",
   "execution_count": null,
   "id": "0fbdf58b-f185-4892-b02b-c749e3af47df",
   "metadata": {},
   "outputs": [],
   "source": []
  }
 ],
 "metadata": {
  "kernelspec": {
   "display_name": "Python 3 (ipykernel)",
   "language": "python",
   "name": "python3"
  },
  "language_info": {
   "codemirror_mode": {
    "name": "ipython",
    "version": 3
   },
   "file_extension": ".py",
   "mimetype": "text/x-python",
   "name": "python",
   "nbconvert_exporter": "python",
   "pygments_lexer": "ipython3",
   "version": "3.12.3"
  }
 },
 "nbformat": 4,
 "nbformat_minor": 5
}
