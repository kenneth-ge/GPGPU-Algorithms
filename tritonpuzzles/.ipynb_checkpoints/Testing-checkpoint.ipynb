{
 "cells": [
  {
   "cell_type": "code",
   "execution_count": 34,
   "id": "858479bd-9406-42ce-90fd-d92c78add0e7",
   "metadata": {},
   "outputs": [
    {
     "data": {
      "text/plain": [
       "tensor([10., 11., 12., 13., 14., 15., 16., 17., 18., 19.], device='cuda:0')"
      ]
     },
     "execution_count": 34,
     "metadata": {},
     "output_type": "execute_result"
    }
   ],
   "source": [
    "import torch\n",
    "import triton\n",
    "from torch import Tensor\n",
    "import triton.language as tl\n",
    "import jaxtyping\n",
    "from jaxtyping import Float32, Int32\n",
    "\n",
    "\"\"\"def add_spec(x: Float32[Tensor, \"32\"]) -> Float32[Tensor, \"32\"]:\n",
    "    z = torch.empty_like(x, device='cuda')\n",
    "    add_kernel[(triton.cdiv(x.shape[0], 1024),)](x, z, x.shape[0], 1024)\n",
    "    return z\"\"\"\n",
    "\n",
    "def add_spec(x: Float32[Tensor, \"32\"]) -> Float32[Tensor, \"32\"]:\n",
    "    \"This is the spec that you should implement. Uses typing to define sizes.\"\n",
    "    return x + 10.\n",
    "\n",
    "@triton.jit\n",
    "def add_kernel(x_ptr, z_ptr, N0, B0: tl.constexpr):\n",
    "    pid = tl.program_id(0)\n",
    "    \n",
    "    range = tl.arange(0, B0)\n",
    "    x = tl.load(x_ptr + pid * B0 + range, mask=range < N0)\n",
    "    z = x + 10\n",
    "    tl.store(z_ptr + pid * B0 + range, z, mask=range < N0)\n",
    "\n",
    "x = torch.zeros((10), device='cuda')\n",
    "for i in range(10):\n",
    "    x[i] = i\n",
    "add_spec(x)"
   ]
  },
  {
   "cell_type": "code",
   "execution_count": 35,
   "id": "989e0a9b-b7c2-40f5-8ebf-45b96e555e19",
   "metadata": {},
   "outputs": [
    {
     "name": "stdout",
     "output_type": "stream",
     "text": [
      "x: jaxtyping.Float32[Tensor, '32']\n",
      "Results match: True\n",
      "Correct!\n"
     ]
    },
    {
     "data": {
      "text/html": [
       "\n",
       "    <video alt=\"test\" controls autoplay=1>\n",
       "        <source src=\"https://openpuppies.com/mp4/lvzRF3W.mp4\"  type=\"video/mp4\">\n",
       "    </video>\n",
       "    "
      ],
      "text/plain": [
       "<IPython.core.display.HTML object>"
      ]
     },
     "execution_count": 35,
     "metadata": {},
     "output_type": "execute_result"
    }
   ],
   "source": [
    "test(add_kernel, add_spec, nelem={\"N0\": 32})"
   ]
  },
  {
   "cell_type": "code",
   "execution_count": 21,
   "id": "cb2909c6-7e8d-41f0-8d8e-f6e529268c66",
   "metadata": {},
   "outputs": [],
   "source": [
    "import inspect\n",
    "\n",
    "def test(puzzle, puzzle_spec, nelem={}, B={\"B0\": 32}):\n",
    "    B = dict(B)\n",
    "    if \"N1\" in nelem and \"B1\" not in B:\n",
    "        B[\"B1\"] = 32\n",
    "    if \"N2\" in nelem and \"B2\" not in B:\n",
    "        B[\"B2\"] = 32\n",
    "\n",
    "    torch.manual_seed(0)\n",
    "    signature = inspect.signature(puzzle_spec)\n",
    "    args = {}\n",
    "    for n, p in signature.parameters.items():\n",
    "        print(p)\n",
    "        args[n + \"_ptr\"] = ([d.size for d in p.annotation.dims], p)\n",
    "    args[\"z_ptr\"] = ([d.size for d in signature.return_annotation.dims], None)\n",
    "\n",
    "    tt_args = []\n",
    "    for k, (v, t) in args.items():\n",
    "        tt_args.append(torch.rand(*v, device='cuda') - 0.5)\n",
    "        if t is not None and t.annotation.dtypes[0] == \"int32\":\n",
    "            tt_args[-1] = torch.randint(-100000, 100000, v)\n",
    "    grid = lambda meta: (triton.cdiv(nelem[\"N0\"], meta[\"B0\"]),\n",
    "                         triton.cdiv(nelem.get(\"N1\", 1), meta.get(\"B1\", 1)),\n",
    "                         triton.cdiv(nelem.get(\"N2\", 1), meta.get(\"B2\", 1)))\n",
    "\n",
    "    #for k, v in args.items():\n",
    "    #    print(k, v)\n",
    "    puzzle[grid](*tt_args, **B, **nelem)\n",
    "    z = tt_args[-1]\n",
    "    tt_args = tt_args[:-1]\n",
    "    z_ = puzzle_spec(*tt_args)\n",
    "    match = torch.allclose(z, z_, rtol=1e-3, atol=1e-3)\n",
    "    print(\"Results match:\",  match)\n",
    "    failures = False\n",
    "    if not match or failures:\n",
    "        print(\"Invalid Access:\", failures)\n",
    "        print(\"Yours:\", z)\n",
    "        print(\"Spec:\", z_)\n",
    "        print(torch.isclose(z, z_))\n",
    "        return\n",
    "    # PUPPIES!\n",
    "    from IPython.display import HTML\n",
    "    import random\n",
    "    print(\"Correct!\")\n",
    "    pups = [\n",
    "    \"2m78jPG\",\n",
    "    \"pn1e9TO\",\n",
    "    \"MQCIwzT\",\n",
    "    \"udLK6FS\",\n",
    "    \"ZNem5o3\",\n",
    "    \"DS2IZ6K\",\n",
    "    \"aydRUz8\",\n",
    "    \"MVUdQYK\",\n",
    "    \"kLvno0p\",\n",
    "    \"wScLiVz\",\n",
    "    \"Z0TII8i\",\n",
    "    \"F1SChho\",\n",
    "    \"9hRi2jN\",\n",
    "    \"lvzRF3W\",\n",
    "    \"fqHxOGI\",\n",
    "    \"1xeUYme\",\n",
    "    \"6tVqKyM\",\n",
    "    \"CCxZ6Wr\",\n",
    "    \"lMW0OPQ\",\n",
    "    \"wHVpHVG\",\n",
    "    \"Wj2PGRl\",\n",
    "    \"HlaTE8H\",\n",
    "    \"k5jALH0\",\n",
    "    \"3V37Hqr\",\n",
    "    \"Eq2uMTA\",\n",
    "    \"Vy9JShx\",\n",
    "    \"g9I2ZmK\",\n",
    "    \"Nu4RH7f\",\n",
    "    \"sWp0Dqd\",\n",
    "    \"bRKfspn\",\n",
    "    \"qawCMl5\",\n",
    "    \"2F6j2B4\",\n",
    "    \"fiJxCVA\",\n",
    "    \"pCAIlxD\",\n",
    "    \"zJx2skh\",\n",
    "    \"2Gdl1u7\",\n",
    "    \"aJJAY4c\",\n",
    "    \"ros6RLC\",\n",
    "    \"DKLBJh7\",\n",
    "    \"eyxH0Wc\",\n",
    "    \"rJEkEw4\"]\n",
    "    return HTML(\"\"\"\n",
    "    <video alt=\"test\" controls autoplay=1>\n",
    "        <source src=\"https://openpuppies.com/mp4/%s.mp4\"  type=\"video/mp4\">\n",
    "    </video>\n",
    "    \"\"\"%(random.sample(pups, 1)[0]))"
   ]
  },
  {
   "cell_type": "code",
   "execution_count": 15,
   "id": "0b1516b9-32ae-4553-b7f9-49c256a825e0",
   "metadata": {},
   "outputs": [
    {
     "data": {
      "text/plain": [
       "tensor([[0],\n",
       "        [1],\n",
       "        [2],\n",
       "        [3],\n",
       "        [4],\n",
       "        [5],\n",
       "        [6],\n",
       "        [7]])"
      ]
     },
     "execution_count": 15,
     "metadata": {},
     "output_type": "execute_result"
    }
   ],
   "source": [
    "i_range = torch.arange(0, 8)[:, None]\n",
    "i_range"
   ]
  },
  {
   "cell_type": "code",
   "execution_count": 16,
   "id": "f7562166-b0dc-4ead-97ef-fba250810e46",
   "metadata": {},
   "outputs": [
    {
     "data": {
      "text/plain": [
       "tensor([[0, 1, 2, 3]])"
      ]
     },
     "execution_count": 16,
     "metadata": {},
     "output_type": "execute_result"
    }
   ],
   "source": [
    "j_range = torch.arange(0, 4)[None, :]\n",
    "j_range"
   ]
  },
  {
   "cell_type": "code",
   "execution_count": 17,
   "id": "2f09c1f2-c19c-4f8a-ab92-bd0694395cbb",
   "metadata": {},
   "outputs": [
    {
     "data": {
      "text/plain": [
       "tensor([[ 0,  1,  2,  3],\n",
       "        [ 4,  5,  6,  7],\n",
       "        [ 8,  9, 10, 11],\n",
       "        [12, 13, 14, 15],\n",
       "        [16, 17, 18, 19],\n",
       "        [20, 21, 22, 23],\n",
       "        [24, 25, 26, 27],\n",
       "        [28, 29, 30, 31]])"
      ]
     },
     "execution_count": 17,
     "metadata": {},
     "output_type": "execute_result"
    }
   ],
   "source": [
    "i_range * 4 + j_range"
   ]
  },
  {
   "cell_type": "code",
   "execution_count": 54,
   "id": "b6b53245-495b-416a-89c6-465b04880fd7",
   "metadata": {},
   "outputs": [
    {
     "name": "stdout",
     "output_type": "stream",
     "text": [
      "x: jaxtyping.Float32[Tensor, '32']\n",
      "y: jaxtyping.Float32[Tensor, '32']\n",
      "Results match: True\n",
      "Correct!\n"
     ]
    },
    {
     "data": {
      "text/html": [
       "\n",
       "    <video alt=\"test\" controls autoplay=1>\n",
       "        <source src=\"https://openpuppies.com/mp4/zJx2skh.mp4\"  type=\"video/mp4\">\n",
       "    </video>\n",
       "    "
      ],
      "text/plain": [
       "<IPython.core.display.HTML object>"
      ]
     },
     "execution_count": 54,
     "metadata": {},
     "output_type": "execute_result"
    }
   ],
   "source": [
    "def add_vec_spec(x: Float32[Tensor, \"32\"], y: Float32[Tensor, \"32\"]) -> Float32[Tensor, \"32 32\"]:\n",
    "    return x[None, :] + y[:, None]\n",
    "\n",
    "@triton.jit\n",
    "def add_vec_kernel(x_ptr, y_ptr, z_ptr, N0, N1, B0: tl.constexpr, B1: tl.constexpr):\n",
    "    x = tl.load(x_ptr + tl.arange(0, B0))\n",
    "    y = tl.load(y_ptr + tl.arange(0, B1))\n",
    "\n",
    "    z = x[None, :] + y[:, None]\n",
    "\n",
    "    tl.store(z_ptr + tl.arange(0, B1)[:, None] * B0 + tl.arange(0, B0)[None, :], z)\n",
    "\n",
    "test(add_vec_kernel, add_vec_spec, nelem={\"N0\": 32, \"N1\": 32})"
   ]
  },
  {
   "cell_type": "code",
   "execution_count": 51,
   "id": "3bc966fd-12d4-41aa-8b5b-00606666cef3",
   "metadata": {},
   "outputs": [
    {
     "data": {
      "text/plain": [
       "tensor([[0, 1, 2, 3],\n",
       "        [4, 5, 6, 7]])"
      ]
     },
     "execution_count": 51,
     "metadata": {},
     "output_type": "execute_result"
    }
   ],
   "source": [
    "torch.arange(0, 2)[:, None] * 4 + torch.arange(0, 4)[None, :]"
   ]
  },
  {
   "cell_type": "code",
   "execution_count": 41,
   "id": "fe3035f0-7fd8-4717-b4f1-ea0be808f77a",
   "metadata": {},
   "outputs": [
    {
     "name": "stdout",
     "output_type": "stream",
     "text": [
      "tensor([0, 1, 2, 3], device='cuda:0')\n",
      "tensor([0, 1], device='cuda:0')\n"
     ]
    },
    {
     "data": {
      "text/plain": [
       "tensor([[0, 1, 2, 3],\n",
       "        [1, 2, 3, 4]], device='cuda:0')"
      ]
     },
     "execution_count": 41,
     "metadata": {},
     "output_type": "execute_result"
    }
   ],
   "source": [
    "x = torch.arange(4, device='cuda')\n",
    "y = torch.arange(2, device='cuda')\n",
    "print(x)\n",
    "print(y)\n",
    "add_vec_spec(x, y)"
   ]
  },
  {
   "cell_type": "code",
   "execution_count": 45,
   "id": "1240333d-3e81-4847-8c29-690a240b10f3",
   "metadata": {},
   "outputs": [
    {
     "data": {
      "text/plain": [
       "tensor([[0., 1., 2., 3.],\n",
       "        [4., 0., 0., 0.]], device='cuda:0')"
      ]
     },
     "execution_count": 45,
     "metadata": {},
     "output_type": "execute_result"
    }
   ],
   "source": [
    "z = torch.zeros((2,4), device='cuda')\n",
    "add_vec_kernel[(1,1,1,)](x, y, z, 4,2,4,2)\n",
    "z"
   ]
  },
  {
   "cell_type": "markdown",
   "id": "2c8a557f-41bc-4c84-8574-24fc4d187640",
   "metadata": {},
   "source": [
    "## Puzzle 4: Outer Vector Add Block"
   ]
  },
  {
   "cell_type": "code",
   "execution_count": 68,
   "id": "087791fd-2ad8-4aed-9734-3127f1386f4a",
   "metadata": {},
   "outputs": [
    {
     "name": "stdout",
     "output_type": "stream",
     "text": [
      "x: jaxtyping.Float32[Tensor, '100']\n",
      "y: jaxtyping.Float32[Tensor, '90']\n",
      "Results match: False\n",
      "Invalid Access: False\n",
      "Yours: tensor([[ 0.3713,  0.4889, -0.0028,  ..., -0.1533, -0.6451,  0.2701],\n",
      "        [ 0.2759,  0.1267, -0.2550,  ...,  0.5607,  0.1790,  0.5842],\n",
      "        [-0.0070,  0.6736, -0.1177,  ...,  0.2689, -0.5223, -0.5654],\n",
      "        ...,\n",
      "        [-0.4654, -0.0915, -0.4728,  ...,  0.3232,  0.1355,  0.2032],\n",
      "        [ 0.2527, -0.4758,  0.3153,  ...,  0.3500, -0.2044,  0.0783],\n",
      "        [ 0.3800, -0.1854, -0.0115,  ...,  0.2143,  0.0270, -0.3052]],\n",
      "       device='cuda:0')\n",
      "Spec: tensor([[ 0.3713,  0.4889, -0.0028,  ...,  0.2145,  0.6114,  0.7605],\n",
      "        [ 0.1900,  0.3076, -0.1841,  ...,  0.0332,  0.4301,  0.5793],\n",
      "        [-0.1319, -0.0143, -0.5060,  ..., -0.2887,  0.1082,  0.2573],\n",
      "        ...,\n",
      "        [-0.2529, -0.1353, -0.6270,  ..., -0.4097, -0.0128,  0.1364],\n",
      "        [ 0.2798,  0.3974, -0.0943,  ...,  0.1230,  0.5199,  0.6691],\n",
      "        [-0.0330,  0.0846, -0.4071,  ..., -0.1898,  0.2071,  0.3562]],\n",
      "       device='cuda:0')\n",
      "tensor([[ True,  True,  True,  ..., False, False, False],\n",
      "        [False, False, False,  ..., False, False, False],\n",
      "        [False, False, False,  ..., False, False, False],\n",
      "        ...,\n",
      "        [False, False, False,  ..., False, False, False],\n",
      "        [False, False, False,  ..., False, False, False],\n",
      "        [False, False, False,  ..., False, False, False]], device='cuda:0')\n"
     ]
    }
   ],
   "source": [
    "def add_vec_block_spec(x: Float32[Tensor, \"100\"], y: Float32[Tensor, \"90\"]) -> Float32[Tensor, \"90 100\"]:\n",
    "    return x[None, :] + y[:, None]\n",
    "\n",
    "@triton.jit\n",
    "def add_vec_block_kernel(x_ptr, y_ptr, z_ptr, N0, N1, B0: tl.constexpr, B1: tl.constexpr):\n",
    "    pid_0 = tl.program_id(0)\n",
    "    pid_1 = tl.program_id(1)\n",
    "    \n",
    "    n_x_ptr = x_ptr + pid_0 * B0\n",
    "    n_y_ptr = y_ptr + pid_1 * B1\n",
    "    n_z_ptr = z_ptr + pid_0 * N0 * B1 + pid_1 * B1\n",
    "\n",
    "    x_rg = tl.arange(0, B0)\n",
    "    y_rg = tl.arange(0, B1)\n",
    "    x = tl.load(x_ptr + x_rg)#, mask=x_rg < N0)\n",
    "    y = tl.load(y_ptr + y_rg)#, mask=y_rg < N1)\n",
    "\n",
    "    z = x[None, :] + y[:, None]\n",
    "\n",
    "    i_rng = tl.arange(0, B1)[:, None]\n",
    "    j_rng = tl.arange(0, B0)[None, :]\n",
    "    \n",
    "    tl.store(n_z_ptr + i_rng * B0 + j_rng, z)#, mask=(i_rng < N1) & (j_rng < N0))\n",
    "\n",
    "test(add_vec_block_kernel, add_vec_block_spec, nelem={\"N0\": 100, \"N1\": 90})"
   ]
  },
  {
   "cell_type": "code",
   "execution_count": 70,
   "id": "366d0ec8-d77a-4148-825b-689b761165be",
   "metadata": {},
   "outputs": [
    {
     "name": "stdout",
     "output_type": "stream",
     "text": [
      "0\n",
      "1\n",
      "2\n",
      "1\n",
      "2\n",
      "3\n",
      "2\n",
      "3\n",
      "4\n",
      "3\n",
      "4\n",
      "5\n"
     ]
    }
   ],
   "source": [
    "B0 = 1\n",
    "B1 = 1\n",
    "for i in range(4):\n",
    "    for j in range(3):\n",
    "        print(i * B0 * B1 + j * B0)"
   ]
  }
 ],
 "metadata": {
  "kernelspec": {
   "display_name": "Python 3 (ipykernel)",
   "language": "python",
   "name": "python3"
  },
  "language_info": {
   "codemirror_mode": {
    "name": "ipython",
    "version": 3
   },
   "file_extension": ".py",
   "mimetype": "text/x-python",
   "name": "python",
   "nbconvert_exporter": "python",
   "pygments_lexer": "ipython3",
   "version": "3.12.3"
  }
 },
 "nbformat": 4,
 "nbformat_minor": 5
}
