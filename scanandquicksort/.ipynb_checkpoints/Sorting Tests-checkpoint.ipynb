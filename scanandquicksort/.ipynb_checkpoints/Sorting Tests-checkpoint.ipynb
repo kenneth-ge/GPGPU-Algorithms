{
 "cells": [
  {
   "cell_type": "markdown",
   "id": "f43a0d50-2e4c-426b-8c52-941a00cca68b",
   "metadata": {},
   "source": [
    "Here, I will use Numba and Triton lmao"
   ]
  },
  {
   "cell_type": "code",
   "execution_count": 1,
   "id": "8086a5fa-699f-473c-b7db-f1fdd8450a9e",
   "metadata": {},
   "outputs": [],
   "source": [
    "import torch\n",
    "import triton\n",
    "from torch import Tensor\n",
    "import triton.language as tl\n",
    "import jaxtyping\n",
    "from jaxtyping import Float32, Int32, Int64\n",
    "import math\n",
    "import numpy as np"
   ]
  },
  {
   "cell_type": "code",
   "execution_count": 2,
   "id": "b751bff8-d955-4d5f-b1d2-19ec503dd3a1",
   "metadata": {},
   "outputs": [],
   "source": [
    "BLOCK_SIZE = 32"
   ]
  },
  {
   "cell_type": "code",
   "execution_count": 3,
   "id": "c07bb5aa-f8bf-4510-93eb-72174649ea25",
   "metadata": {},
   "outputs": [],
   "source": [
    "@triton.jit\n",
    "def scan(Y, nextY, stride, BLOCK_SIZE: tl.constexpr):\n",
    "    pid_row = tl.program_id(0)\n",
    "\n",
    "    for j in tl.static_range(BLOCK_SIZE):\n",
    "        current_idx = pid_row * BLOCK_SIZE + j\n",
    "        if current_idx - stride >= 0:\n",
    "            Yj = tl.load(Y + current_idx)\n",
    "            Yjminstride = tl.load(Y + current_idx - stride)\n",
    "            \n",
    "            tl.store(nextY + current_idx, Yj + Yjminstride)\n",
    "        else:\n",
    "            tl.store(nextY + current_idx, tl.load(Y + current_idx))"
   ]
  },
  {
   "cell_type": "code",
   "execution_count": 4,
   "id": "0223226c-b50c-4a3f-9604-d126612eaba7",
   "metadata": {},
   "outputs": [],
   "source": [
    "def triton_pref_sum(X):\n",
    "    Y = torch.clone(X)\n",
    "    Ynext = torch.empty_like(Y, device='cuda')\n",
    "    n = X.shape[0]\n",
    "    stride = 1\n",
    "    for i in range(0, int(math.log2(n))):\n",
    "        scan[(math.ceil(n / BLOCK_SIZE),)](Y, Ynext, stride, BLOCK_SIZE)\n",
    "        stride *= 2\n",
    "        Ynext, Y = Y, Ynext\n",
    "\n",
    "    return Y\n"
   ]
  },
  {
   "cell_type": "code",
   "execution_count": 5,
   "id": "e088b30d-aea4-407b-9b63-9322724d4395",
   "metadata": {},
   "outputs": [
    {
     "data": {
      "text/plain": [
       "tensor([18, 16, 74, 86, 36, 11, 68, 94, 68, 52, 87, 30, 83, 18, 71, 26, 17, 89,\n",
       "        72,  5, 70, 49, 77, 43, 76, 18,  6, 98, 76, 26, 42, 36, 33,  1, 13, 47,\n",
       "        37, 74, 54, 36, 26, 85, 60, 38, 69, 31, 26, 66, 23, 57],\n",
       "       device='cuda:0')"
      ]
     },
     "execution_count": 5,
     "metadata": {},
     "output_type": "execute_result"
    }
   ],
   "source": [
    "N = 50\n",
    "X = torch.randint(low=0, high=100, size=(N,), device='cuda')\n",
    "X"
   ]
  },
  {
   "cell_type": "code",
   "execution_count": 6,
   "id": "ccbb0454-f6ca-4798-971c-c1c4a5d786ea",
   "metadata": {},
   "outputs": [
    {
     "data": {
      "text/plain": [
       "13"
      ]
     },
     "execution_count": 6,
     "metadata": {},
     "output_type": "execute_result"
    }
   ],
   "source": [
    "pivot_idx = np.random.randint(N)\n",
    "pivot_idx"
   ]
  },
  {
   "cell_type": "code",
   "execution_count": 7,
   "id": "9ef06f7a-94f9-4fb0-be14-16f122f54768",
   "metadata": {},
   "outputs": [
    {
     "data": {
      "text/plain": [
       "tensor(18, device='cuda:0')"
      ]
     },
     "execution_count": 7,
     "metadata": {},
     "output_type": "execute_result"
    }
   ],
   "source": [
    "X[pivot_idx]"
   ]
  },
  {
   "cell_type": "code",
   "execution_count": 8,
   "id": "f739fab3-48c3-446f-b760-8fd5a776e89c",
   "metadata": {},
   "outputs": [
    {
     "data": {
      "text/plain": [
       "tensor([0., 0.], device='cuda:0')"
      ]
     },
     "execution_count": 8,
     "metadata": {},
     "output_type": "execute_result"
    }
   ],
   "source": [
    "count_under_pivot = torch.zeros((math.ceil(N / BLOCK_SIZE)), device='cuda')\n",
    "count_under_pivot\n",
    "count_over_pivot = torch.zeros((math.ceil(N / BLOCK_SIZE)), device='cuda')\n",
    "count_over_pivot"
   ]
  },
  {
   "cell_type": "code",
   "execution_count": 9,
   "id": "9cdfb325-a708-45a9-bca1-80ebd582b41a",
   "metadata": {},
   "outputs": [],
   "source": [
    "@triton.jit\n",
    "def count(X, under_pivot, over_pivot, pivot_idx, N, BLOCK_SIZE: tl.constexpr):\n",
    "    pid = tl.program_id(0)\n",
    "    block = pid * BLOCK_SIZE + tl.arange(0, BLOCK_SIZE)\n",
    "\n",
    "    item = tl.load(X + block, mask=block<N, other=float('nan'))\n",
    "    num = tl.sum(tl.where(item < tl.load(X + pivot_idx), 1, 0))\n",
    "\n",
    "    #tl.device_print(\"stuff\", num)\n",
    "\n",
    "    tl.store(under_pivot + pid, num)\n",
    "    tl.store(over_pivot + pid, tl.sum(tl.where(block<N, 1, 0)) - num)"
   ]
  },
  {
   "cell_type": "code",
   "execution_count": 10,
   "id": "1bfbbec4-fcf5-4c3b-961a-cc5c10aa425a",
   "metadata": {},
   "outputs": [
    {
     "data": {
      "text/plain": [
       "<triton.compiler.compiler.CompiledKernel at 0x7fddec38a420>"
      ]
     },
     "execution_count": 10,
     "metadata": {},
     "output_type": "execute_result"
    }
   ],
   "source": [
    "count[(math.ceil(N / BLOCK_SIZE),)](X, count_under_pivot, count_over_pivot, pivot_idx, N, BLOCK_SIZE)"
   ]
  },
  {
   "cell_type": "code",
   "execution_count": 11,
   "id": "42141b4c-19b9-4074-959c-a01edb076735",
   "metadata": {},
   "outputs": [
    {
     "data": {
      "text/plain": [
       "tensor([0, 1, 0, 0, 0, 1, 0, 0, 0, 0, 0, 0, 0, 0, 0, 0, 1, 0, 0, 1, 0, 0, 0, 0,\n",
       "        0, 0, 1, 0, 0, 0, 0, 0, 0, 1, 1, 0, 0, 0, 0, 0, 0, 0, 0, 0, 0, 0, 0, 0,\n",
       "        0, 0], device='cuda:0')"
      ]
     },
     "execution_count": 11,
     "metadata": {},
     "output_type": "execute_result"
    }
   ],
   "source": [
    "torch.where(X < X[pivot_idx], 1, 0)"
   ]
  },
  {
   "cell_type": "code",
   "execution_count": 12,
   "id": "6e6c761c-f660-41cd-ae54-5c17f39613d4",
   "metadata": {},
   "outputs": [
    {
     "data": {
      "text/plain": [
       "tensor([5, 2], device='cuda:0')"
      ]
     },
     "execution_count": 12,
     "metadata": {},
     "output_type": "execute_result"
    }
   ],
   "source": [
    "count_under_pivot = count_under_pivot.long()\n",
    "count_under_pivot"
   ]
  },
  {
   "cell_type": "code",
   "execution_count": 13,
   "id": "e4b9f81e-c798-4a7a-978c-216d2a111a86",
   "metadata": {},
   "outputs": [
    {
     "data": {
      "text/plain": [
       "tensor([27, 16], device='cuda:0')"
      ]
     },
     "execution_count": 13,
     "metadata": {},
     "output_type": "execute_result"
    }
   ],
   "source": [
    "count_over_pivot = count_over_pivot.long()\n",
    "count_over_pivot"
   ]
  },
  {
   "cell_type": "code",
   "execution_count": 14,
   "id": "ede140ea-b8bf-4849-9541-4257d4c6439d",
   "metadata": {},
   "outputs": [
    {
     "data": {
      "text/plain": [
       "tensor([27, 43], device='cuda:0')"
      ]
     },
     "execution_count": 14,
     "metadata": {},
     "output_type": "execute_result"
    }
   ],
   "source": [
    "start_indices = triton_pref_sum(count_under_pivot)\n",
    "start_indices\n",
    "\n",
    "start_indices2 = triton_pref_sum(count_over_pivot)\n",
    "start_indices2"
   ]
  },
  {
   "cell_type": "code",
   "execution_count": 15,
   "id": "9e253891-a586-4c4f-b5f3-dd641e4dcc33",
   "metadata": {},
   "outputs": [],
   "source": [
    "#: Int64[Tensor, '...']\n",
    "@triton.jit\n",
    "def partition(X, Y, pivot_idx, count_under_pivot, count_over_pivot, start_indices, start_indices2, total_before, N, BLOCK_SIZE: tl.constexpr):\n",
    "    pid = tl.program_id(0)\n",
    "    \n",
    "    startidx = tl.load(start_indices + pid).to(tl.int64) - tl.load(count_under_pivot + pid).to(tl.int64)\n",
    "    startidx2 = tl.load(total_before).to(tl.int64) + tl.load(start_indices2 + pid).to(tl.int64) - tl.load(count_over_pivot + pid).to(tl.int64)\n",
    "\n",
    "    #tl.device_print('total_before', total_before)\n",
    "    #tl.device_print('start2', tl.load(start_indices2 + pid))\n",
    "    #tl.device_print('thiscount', tl.load(count_over_pivot + pid))\n",
    "    \n",
    "    pivot = tl.load(X + pivot_idx)\n",
    "    \n",
    "    for i in tl.static_range(BLOCK_SIZE):\n",
    "        pos = pid * BLOCK_SIZE + i\n",
    "        if pos < N:\n",
    "            value = tl.load(X + pos)\n",
    "            #tl.device_print('pivot', pivot)\n",
    "            #tl.device_print('value', value)\n",
    "            if value < pivot:\n",
    "                #tl.device_print('path1', startidx)\n",
    "                tl.store(Y + startidx, value)\n",
    "                startidx += 1\n",
    "            else:\n",
    "                #tl.device_print('path2', startidx2)\n",
    "                tl.store(Y + startidx2, value)\n",
    "                startidx2 += 1\n",
    "\n",
    "    #tl.store(Y + pid, tl.load(start_indices2 + pid) - tl.load(count_over_pivot + pid))"
   ]
  },
  {
   "cell_type": "code",
   "execution_count": 16,
   "id": "5e012510-af95-4127-8553-62e117c0d547",
   "metadata": {},
   "outputs": [],
   "source": [
    "Y = torch.empty_like(X, device='cuda')\n",
    "#Y = torch.empty((1024,), device='cuda')"
   ]
  },
  {
   "cell_type": "code",
   "execution_count": 17,
   "id": "c79704df-8d00-430e-9145-89e031cd166d",
   "metadata": {},
   "outputs": [
    {
     "data": {
      "text/plain": [
       "tensor(7, device='cuda:0')"
      ]
     },
     "execution_count": 17,
     "metadata": {},
     "output_type": "execute_result"
    }
   ],
   "source": [
    "total_before = start_indices[start_indices.shape[0] - 1]\n",
    "total_before"
   ]
  },
  {
   "cell_type": "code",
   "execution_count": 18,
   "id": "64dc4c42-b32b-400b-8f7f-91cdec46f4b9",
   "metadata": {},
   "outputs": [
    {
     "data": {
      "text/plain": [
       "<triton.compiler.compiler.CompiledKernel at 0x7fddec4e4470>"
      ]
     },
     "execution_count": 18,
     "metadata": {},
     "output_type": "execute_result"
    }
   ],
   "source": [
    "partition[(math.ceil(N / BLOCK_SIZE),)]\\\n",
    "    (X, Y, pivot_idx, count_under_pivot, count_over_pivot, \\\n",
    "     start_indices, start_indices2, total_before, N, BLOCK_SIZE)"
   ]
  },
  {
   "cell_type": "code",
   "execution_count": 19,
   "id": "03c9ca8f-006a-4e82-9b67-6f7ce95a5627",
   "metadata": {},
   "outputs": [
    {
     "data": {
      "text/plain": [
       "tensor([16, 11, 17,  5,  6,  1, 13, 18, 74, 86, 36, 68, 94, 68, 52, 87, 30, 83,\n",
       "        18, 71, 26, 89, 72, 70, 49, 77, 43, 76, 18, 98, 76, 26, 42, 36, 33, 47,\n",
       "        37, 74, 54, 36, 26, 85, 60, 38, 69, 31, 26, 66, 23, 57],\n",
       "       device='cuda:0')"
      ]
     },
     "execution_count": 19,
     "metadata": {},
     "output_type": "execute_result"
    }
   ],
   "source": [
    "Y"
   ]
  },
  {
   "cell_type": "code",
   "execution_count": 20,
   "id": "bb8e107b-181c-4650-ab56-1ae7abfe6c88",
   "metadata": {},
   "outputs": [
    {
     "name": "stdout",
     "output_type": "stream",
     "text": [
      "env: CUDA_LAUNCH_BLOCKING=1\n",
      "env: TORCH_USE_CUDA_DSA=1\n"
     ]
    }
   ],
   "source": [
    "%env CUDA_LAUNCH_BLOCKING=1\n",
    "%env TORCH_USE_CUDA_DSA=1"
   ]
  },
  {
   "cell_type": "code",
   "execution_count": 21,
   "id": "0ec999bb-477e-4e22-b9dd-ab3f26c16a74",
   "metadata": {},
   "outputs": [
    {
     "data": {
      "text/plain": [
       "tensor(18, device='cuda:0')"
      ]
     },
     "execution_count": 21,
     "metadata": {},
     "output_type": "execute_result"
    }
   ],
   "source": [
    "X[pivot_idx]"
   ]
  },
  {
   "cell_type": "code",
   "execution_count": 22,
   "id": "03850f5c-3a8d-4b90-8270-b2af0dd3efc9",
   "metadata": {},
   "outputs": [
    {
     "data": {
      "text/plain": [
       "tensor([16, 11, 17,  5,  6,  1, 13, 18, 74, 86, 36, 68, 94, 68, 52, 87, 30, 83,\n",
       "        18, 71, 26, 89, 72, 70, 49, 77, 43, 76, 18, 98, 76, 26, 42, 36, 33, 47,\n",
       "        37, 74, 54, 36, 26, 85, 60, 38, 69, 31, 26, 66, 23, 57],\n",
       "       device='cuda:0')"
      ]
     },
     "execution_count": 22,
     "metadata": {},
     "output_type": "execute_result"
    }
   ],
   "source": [
    "Y"
   ]
  }
 ],
 "metadata": {
  "kernelspec": {
   "display_name": "Python 3 (ipykernel)",
   "language": "python",
   "name": "python3"
  },
  "language_info": {
   "codemirror_mode": {
    "name": "ipython",
    "version": 3
   },
   "file_extension": ".py",
   "mimetype": "text/x-python",
   "name": "python",
   "nbconvert_exporter": "python",
   "pygments_lexer": "ipython3",
   "version": "3.12.3"
  }
 },
 "nbformat": 4,
 "nbformat_minor": 5
}
