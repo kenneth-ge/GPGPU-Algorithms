{
 "cells": [
  {
   "cell_type": "code",
   "execution_count": 1,
   "id": "bf6e80c7-0bbc-4b0a-8deb-ce46b1098956",
   "metadata": {},
   "outputs": [],
   "source": [
    "import torch\n",
    "import triton\n",
    "from torch import Tensor\n",
    "import triton.language as tl\n",
    "import jaxtyping\n",
    "from jaxtyping import Float32, Int32, Int64\n",
    "import math\n",
    "import numpy as np"
   ]
  },
  {
   "cell_type": "code",
   "execution_count": 2,
   "id": "4a416d7b-c015-4825-957e-e32a6cdb6e90",
   "metadata": {},
   "outputs": [],
   "source": [
    "BLOCK_SIZE = 32"
   ]
  },
  {
   "cell_type": "code",
   "execution_count": 3,
   "id": "7c65b410-8de5-4353-994f-13ee9a262844",
   "metadata": {},
   "outputs": [],
   "source": [
    "@triton.jit\n",
    "def scan(Y, nextY, stride, BLOCK_SIZE: tl.constexpr):\n",
    "    pid_row = tl.program_id(0)\n",
    "\n",
    "    for j in tl.static_range(BLOCK_SIZE):\n",
    "        current_idx = pid_row * BLOCK_SIZE + j\n",
    "        if current_idx - stride >= 0:\n",
    "            Yj = tl.load(Y + current_idx)\n",
    "            Yjminstride = tl.load(Y + current_idx - stride)\n",
    "            \n",
    "            tl.store(nextY + current_idx, Yj + Yjminstride)\n",
    "        else:\n",
    "            tl.store(nextY + current_idx, tl.load(Y + current_idx))\n",
    "\n",
    "def triton_pref_sum(X):\n",
    "    Y = torch.clone(X)\n",
    "    Ynext = torch.empty_like(Y, device='cuda')\n",
    "    n = X.shape[0]\n",
    "    stride = 1\n",
    "    for i in range(0, int(math.log2(n))):\n",
    "        scan[(math.ceil(n / BLOCK_SIZE),)](Y, Ynext, stride, BLOCK_SIZE)\n",
    "        stride *= 2\n",
    "        Ynext, Y = Y, Ynext\n",
    "\n",
    "    return Y"
   ]
  },
  {
   "cell_type": "code",
   "execution_count": 103,
   "id": "ebeed22b-5a47-4269-856d-39c13071e687",
   "metadata": {},
   "outputs": [],
   "source": [
    "@triton.jit\n",
    "def count(offset, X, under_pivot, over_pivot, pivot_idx, N, BLOCK_SIZE: tl.constexpr):\n",
    "    pid = tl.program_id(0)\n",
    "    block = offset + pid * BLOCK_SIZE + tl.arange(0, BLOCK_SIZE)\n",
    "\n",
    "    item = tl.load(X + block, mask=block<offset + N, other=float('nan'))\n",
    "    num = tl.sum(tl.where(item < tl.load(X + offset + pivot_idx), 1, 0))\n",
    "\n",
    "    tl.store(under_pivot + pid, num)\n",
    "    tl.store(over_pivot + pid, tl.sum(tl.where(block<offset+N, 1, 0)) - num)"
   ]
  },
  {
   "cell_type": "code",
   "execution_count": 91,
   "id": "90629643-7c32-428e-a2b1-1ed4b2060eb7",
   "metadata": {},
   "outputs": [],
   "source": [
    "#: Int64[Tensor, '...']\n",
    "@triton.jit\n",
    "def triton_partition(offset, X, Y, pivot_idx, count_under_pivot, count_over_pivot, start_indices, start_indices2, total_before, N, BLOCK_SIZE: tl.constexpr):\n",
    "    pid = tl.program_id(0)\n",
    "    \n",
    "    startidx = tl.load(start_indices + pid).to(tl.int64) - tl.load(count_under_pivot + pid).to(tl.int64)\n",
    "    startidx2 = tl.load(total_before).to(tl.int64) + tl.load(start_indices2 + pid).to(tl.int64) - tl.load(count_over_pivot + pid).to(tl.int64)\n",
    "\n",
    "    #tl.device_print('total_before', total_before)\n",
    "    #tl.device_print('start2', tl.load(start_indices2 + pid))\n",
    "    #tl.device_print('thiscount', tl.load(count_over_pivot + pid))\n",
    "    \n",
    "    pivot = tl.load(X + offset + pivot_idx)\n",
    "    \n",
    "    for i in tl.static_range(BLOCK_SIZE):\n",
    "        pos = pid * BLOCK_SIZE + i\n",
    "        if pos < N:\n",
    "            value = tl.load(X + offset + pos)\n",
    "            #tl.device_print('pivot', pivot)\n",
    "            #tl.device_print('value', value)\n",
    "            if value < pivot:\n",
    "                #tl.device_print('path1', startidx)\n",
    "                tl.store(Y + offset + startidx, value)\n",
    "                startidx += 1\n",
    "            else:\n",
    "                #tl.device_print('path2', startidx2)\n",
    "                tl.store(Y + offset + startidx2, value)\n",
    "                startidx2 += 1\n",
    "\n",
    "    #tl.store(Y + pid, tl.load(start_indices2 + pid) - tl.load(count_over_pivot + pid))"
   ]
  },
  {
   "cell_type": "code",
   "execution_count": 109,
   "id": "d0865e8c-bcbc-4e08-a04f-b3016dec8fe1",
   "metadata": {},
   "outputs": [],
   "source": [
    "def partition(X, Y, left, right):\n",
    "    \"\"\"\n",
    "    left and right are inclusive\n",
    "    \"\"\"\n",
    "    \n",
    "    N = right - left + 1\n",
    "    pivot_idx = np.random.randint(N)\n",
    "    pivot = X[left + pivot_idx]\n",
    "\n",
    "    #print('pivot is:', pivot)\n",
    "\n",
    "    count_under_pivot = torch.zeros((math.ceil(N / BLOCK_SIZE)), device='cuda')\n",
    "    count_over_pivot = torch.zeros((math.ceil(N / BLOCK_SIZE)), device='cuda')\n",
    "\n",
    "    count[(math.ceil(N / BLOCK_SIZE),)](left, X, count_under_pivot, count_over_pivot, pivot_idx, N, BLOCK_SIZE)\n",
    "\n",
    "    #print('under pivot:', count_under_pivot)\n",
    "    #print('over pivot:', count_over_pivot)\n",
    "    \n",
    "    count_under_pivot = count_under_pivot.long()\n",
    "    count_over_pivot = count_over_pivot.long()\n",
    "\n",
    "    start_indices = triton_pref_sum(count_under_pivot)\n",
    "    start_indices2 = triton_pref_sum(count_over_pivot)\n",
    "\n",
    "    #print('start indices', start_indices)\n",
    "    #print('start indices2', start_indices2)\n",
    "\n",
    "    total_before = start_indices[-1]\n",
    "\n",
    "    triton_partition[(math.ceil(N / BLOCK_SIZE),)]\\\n",
    "    (left, X, Y, pivot_idx, count_under_pivot, count_over_pivot, \\\n",
    "     start_indices, start_indices2, total_before, N, BLOCK_SIZE)\n",
    "\n",
    "    return pivot, total_before.item()"
   ]
  },
  {
   "cell_type": "code",
   "execution_count": 7,
   "id": "83851040-3d8c-4a60-a34b-0b164296f3eb",
   "metadata": {},
   "outputs": [],
   "source": [
    "X = torch.randint(low=0, high=100, size=(50,), device='cuda')\n",
    "Y = torch.empty_like(X, device='cuda')"
   ]
  },
  {
   "cell_type": "code",
   "execution_count": 8,
   "id": "2a922270-d5e4-4518-80d2-c5103e078d74",
   "metadata": {},
   "outputs": [],
   "source": [
    "pivot, idx = partition(X, Y)"
   ]
  },
  {
   "cell_type": "code",
   "execution_count": 10,
   "id": "b45a24e6-125d-477b-8195-2838054b1f45",
   "metadata": {},
   "outputs": [
    {
     "data": {
      "text/plain": [
       "tensor(92, device='cuda:0')"
      ]
     },
     "execution_count": 10,
     "metadata": {},
     "output_type": "execute_result"
    }
   ],
   "source": [
    "pivot"
   ]
  },
  {
   "cell_type": "code",
   "execution_count": 11,
   "id": "18dd7792-64a0-4296-a29a-3d2c6b0d0eb4",
   "metadata": {},
   "outputs": [
    {
     "data": {
      "text/plain": [
       "tensor([50, 82, 26, 70, 35, 50, 13, 85, 22, 46, 38, 74, 45, 34,  2, 47, 21, 28,\n",
       "        16, 84, 91,  6, 72, 32, 34, 23, 51, 36, 28, 45, 27, 51, 45, 31, 27, 40,\n",
       "        57, 64, 36, 64, 59, 89, 85, 91, 70, 89, 51, 47], device='cuda:0')"
      ]
     },
     "execution_count": 11,
     "metadata": {},
     "output_type": "execute_result"
    }
   ],
   "source": [
    "Y[:idx]"
   ]
  },
  {
   "cell_type": "code",
   "execution_count": 12,
   "id": "7b42aacb-e006-4349-8dba-ec035b76f54d",
   "metadata": {},
   "outputs": [
    {
     "data": {
      "text/plain": [
       "tensor([92, 95], device='cuda:0')"
      ]
     },
     "execution_count": 12,
     "metadata": {},
     "output_type": "execute_result"
    }
   ],
   "source": [
    "Y[idx:]"
   ]
  },
  {
   "cell_type": "code",
   "execution_count": 113,
   "id": "2b054e8e-7456-423e-b420-8bc85f62c1a3",
   "metadata": {},
   "outputs": [],
   "source": [
    "from collections import deque\n",
    "import time\n",
    "\n",
    "def recursiveSort(X):\n",
    "    Y = torch.empty_like(X, device='cuda')\n",
    "    N = torch.numel(X)\n",
    "\n",
    "    def recurse(left, right):\n",
    "        print(X[left:right+1])\n",
    "        pivot, numonleft = partition(X, Y, left, right)\n",
    "\n",
    "        print('pivot=', pivot.item(), ': size=', numonleft, ' offset=', left)\n",
    "        print(X, Y)\n",
    "        \n",
    "        X[left:right+1] = Y[left:right+1]\n",
    "        \n",
    "        #time.sleep(3)\n",
    "        \n",
    "        if numonleft > 2:\n",
    "            recurse(left, left + numonleft - 1)\n",
    "        if right - left + 1 - numonleft > 2:\n",
    "            recurse(left + numonleft, right)\n",
    "\n",
    "    recurse(0, N-1)\n",
    "\n",
    "def sort(X):\n",
    "    Y = torch.empty_like(X, device='cuda')\n",
    "    N = torch.numel(X)\n",
    "    \n",
    "    q = deque()\n",
    "\n",
    "    q.append((0, N - 1))\n",
    "\n",
    "    while q:\n",
    "        left, right = q.popleft()\n",
    "        \n",
    "        pivot, numonleft = partition(X, Y, left, right)\n",
    "\n",
    "        #print(pivot, ':', numonleft, ' ', left)\n",
    "        #print(Y[left:right+1])\n",
    "        #time.sleep(3)\n",
    "        \n",
    "        X[left:right+1] = Y[left:right+1]\n",
    "\n",
    "        if numonleft >= 2:\n",
    "            q.append((left, left + numonleft - 1))\n",
    "        if right - left + 1 - numonleft >= 2:\n",
    "            q.append((left + numonleft, right))"
   ]
  },
  {
   "cell_type": "code",
   "execution_count": 114,
   "id": "f55a3c11-29f9-4637-9282-981cebe1e92b",
   "metadata": {},
   "outputs": [
    {
     "name": "stdout",
     "output_type": "stream",
     "text": [
      "tensor([50, 49, 48, 47, 46, 45, 44, 43, 42, 41, 40, 39, 38, 37, 36, 35, 34, 33,\n",
      "        32, 31, 30, 29, 28, 27, 26, 25, 24, 23, 22, 21, 20, 19, 18, 17, 16, 15,\n",
      "        14, 13, 12, 11, 10,  9,  8,  7,  6,  5,  4,  3,  2,  1],\n",
      "       device='cuda:0')\n",
      "tensor([ 1,  2,  3,  4,  5,  6,  7,  8,  9, 10, 11, 12, 13, 14, 15, 16, 17, 18,\n",
      "        19, 20, 21, 22, 23, 24, 25, 26, 27, 28, 29, 30, 31, 32, 33, 34, 35, 36,\n",
      "        37, 38, 39, 40, 41, 42, 43, 44, 45, 46, 47, 48, 49, 50],\n",
      "       device='cuda:0')\n"
     ]
    }
   ],
   "source": [
    "X = torch.arange(50, 0, -1, device='cuda')#torch.randint(low=0, high=100, size=(50,), device='cuda')\n",
    "print(X)\n",
    "sort(X)\n",
    "print(X)"
   ]
  },
  {
   "cell_type": "code",
   "execution_count": 106,
   "id": "060909f4-c721-42c8-af61-ef0715f56fb1",
   "metadata": {},
   "outputs": [
    {
     "name": "stdout",
     "output_type": "stream",
     "text": [
      "tensor([40, 39, 38, 37, 36, 35, 34, 33, 32, 31, 30, 29, 28, 27, 26, 25, 24, 23,\n",
      "        22, 21, 20, 19, 18, 17, 16, 15, 14, 13, 12, 11, 10,  9,  8,  7,  6,  5,\n",
      "         4,  3,  2,  1], device='cuda:0')\n",
      "pivot is: tensor(22, device='cuda:0')\n",
      "under pivot: tensor([13.,  8.], device='cuda:0')\n",
      "over pivot: tensor([19.,  0.], device='cuda:0')\n",
      "start indices tensor([13, 21], device='cuda:0')\n",
      "start indices2 tensor([19, 19], device='cuda:0')\n"
     ]
    },
    {
     "data": {
      "text/plain": [
       "tensor([ 28,   0,  59, 151, 188, 184, 180, 176, 172, 168,  21,  20,  19,  18,\n",
       "         17,  16,  15,  14,  13,  12,  11,  10,   9,   8,   7,   6,   5,   4,\n",
       "          3,   2,   1,  40,  39,  38,  37,  36,  35,  34,  33,  32,  31,  30,\n",
       "         29,  28,  27,  26,  25,  24,  23,  22], device='cuda:0')"
      ]
     },
     "execution_count": 106,
     "metadata": {},
     "output_type": "execute_result"
    }
   ],
   "source": [
    "X = torch.arange(50, 0, -1, device='cuda')\n",
    "Y = torch.empty_like(X, device='cuda')\n",
    "print(X[10:])\n",
    "partition(X, Y, 10, 49)\n",
    "Y"
   ]
  },
  {
   "cell_type": "code",
   "execution_count": null,
   "id": "cbf0c42b-1792-4541-a6c8-4614a47d0dfa",
   "metadata": {},
   "outputs": [],
   "source": []
  }
 ],
 "metadata": {
  "kernelspec": {
   "display_name": "Python 3 (ipykernel)",
   "language": "python",
   "name": "python3"
  },
  "language_info": {
   "codemirror_mode": {
    "name": "ipython",
    "version": 3
   },
   "file_extension": ".py",
   "mimetype": "text/x-python",
   "name": "python",
   "nbconvert_exporter": "python",
   "pygments_lexer": "ipython3",
   "version": "3.12.3"
  }
 },
 "nbformat": 4,
 "nbformat_minor": 5
}
