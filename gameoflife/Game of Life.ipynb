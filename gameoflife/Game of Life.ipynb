{
 "cells": [
  {
   "cell_type": "code",
   "execution_count": 2,
   "id": "1a808ff5-54e1-4053-9eef-65611ccf5de7",
   "metadata": {},
   "outputs": [],
   "source": [
    "import torch\n",
    "import triton\n",
    "from torch import Tensor\n",
    "import triton.language as tl\n",
    "import jaxtyping\n",
    "from jaxtyping import Float32, Int32\n",
    "import math"
   ]
  },
  {
   "cell_type": "code",
   "execution_count": 3,
   "id": "33c9905c-925f-487d-a3af-cf7c85064319",
   "metadata": {},
   "outputs": [],
   "source": [
    "@triton.jit\n",
    "def get(current, row, col, stride_crow, stride_ccol, Nrow, Mcol):\n",
    "    if (row < 0 or col < 0) or (row >= Nrow or col >= Mcol):\n",
    "        return 0\n",
    "    return tl.load(current + row * stride_crow + col * stride_ccol)\n",
    "\n",
    "@triton.jit\n",
    "def step(current, stride_crow, stride_ccol, step, stride_srow, stride_scol, Nrow, Mcol, BNrow : tl.constexpr, BMcol : tl.constexpr, deltaRs, deltaCs):\n",
    "    pid_row = tl.program_id(0)\n",
    "    pid_col = tl.program_id(1)\n",
    "\n",
    "    curr_ptr = current + pid_row * BNrow * stride_crow + pid_col * BMcol * stride_ccol\n",
    "\n",
    "    total_i = BNrow\n",
    "    if Nrow - pid_row * BNrow < total_i:\n",
    "        total_i = Nrow - pid_row * BNrow\n",
    "    \n",
    "    total_j = BMcol\n",
    "    if Mcol - pid_col * BMcol < total_j:\n",
    "        total_j = Mcol - pid_col * BMcol\n",
    "    \n",
    "    #i = 0\n",
    "    #while i < total_i:\n",
    "    for i in tl.static_range(BNrow):\n",
    "        #j = 0\n",
    "        for j in tl.static_range(BMcol):\n",
    "        #while j < total_j:\n",
    "            start_offseti = pid_row * BNrow + i\n",
    "            start_offsetj = pid_col * BMcol + j\n",
    "            \n",
    "            cnt = 0\n",
    "            for k in tl.static_range(8):\n",
    "                deltaR = tl.load(deltaRs + k)\n",
    "                deltaC = tl.load(deltaCs + k)\n",
    "                cnt += get(current, start_offseti + deltaR, start_offsetj + deltaC, stride_crow, stride_ccol, Nrow, Mcol)\n",
    "\n",
    "            state = get(current, start_offseti, start_offsetj, stride_crow, stride_ccol, Nrow, Mcol)\n",
    "            new_state = 0\n",
    "            \n",
    "            if state == 0 and cnt == 3:\n",
    "                new_state = 1\n",
    "            elif state == 1 and (cnt == 2 or cnt == 3):\n",
    "                new_state = 1\n",
    "\n",
    "            tl.store(step + (pid_row * BNrow + i) * stride_srow + (pid_col * BMcol + j) * stride_scol, new_state)\n",
    "            #tl.store(step + (pid_row * BNrow + i) * stride_srow + (pid_col * BMcol + j) * stride_scol, deltaRs + 2)\n",
    "\n",
    "            #j += 1\n",
    "        #i += 1\n",
    "            \n",
    "    \n",
    "    #tl.store((step + pid_row * BNrow * stride_srow + pid_col * BMcol * stride_scol) + gridblock, data)\n",
    "    "
   ]
  },
  {
   "cell_type": "code",
   "execution_count": 4,
   "id": "9ffaa016-be75-43d4-903e-0ede73c961a8",
   "metadata": {},
   "outputs": [],
   "source": [
    "# Allocate input/output tensors\n",
    "X = torch.zeros((8, 8), device='cuda').to(torch.int32)"
   ]
  },
  {
   "cell_type": "code",
   "execution_count": 5,
   "id": "6ef7fea7-a023-45e3-8a42-0c9c0c0211bb",
   "metadata": {},
   "outputs": [
    {
     "data": {
      "text/plain": [
       "tensor([[1, 1, 1, 1, 1, 1, 1, 1],\n",
       "        [0, 0, 0, 0, 0, 0, 0, 0],\n",
       "        [0, 0, 0, 0, 0, 0, 0, 0],\n",
       "        [0, 0, 0, 0, 0, 0, 0, 0],\n",
       "        [0, 0, 0, 0, 0, 0, 0, 0],\n",
       "        [0, 0, 0, 0, 0, 0, 0, 0],\n",
       "        [0, 0, 0, 0, 0, 0, 0, 0],\n",
       "        [0, 0, 0, 0, 0, 0, 0, 0]], device='cuda:0', dtype=torch.int32)"
      ]
     },
     "execution_count": 5,
     "metadata": {},
     "output_type": "execute_result"
    }
   ],
   "source": [
    "for i in range(X.shape[1]):\n",
    "    X[0][i] = 1\n",
    "X"
   ]
  },
  {
   "cell_type": "code",
   "execution_count": 6,
   "id": "679d3e9c-8cef-445d-ae0f-4d1a4751feeb",
   "metadata": {},
   "outputs": [
    {
     "data": {
      "text/plain": [
       "<triton.compiler.compiler.CompiledKernel at 0x7ff3fd87f050>"
      ]
     },
     "execution_count": 6,
     "metadata": {},
     "output_type": "execute_result"
    }
   ],
   "source": [
    "Y = torch.empty_like(X, device='cuda').to(torch.int32)\n",
    "# SPMD launch grid\n",
    "grid = (1, 1)\n",
    "\n",
    "# extra params\n",
    "deltaRs = torch.asarray([-1, 0, 1, 0, -1, -1, 1, 1], device='cuda').to(torch.int32)\n",
    "deltaCs = torch.asarray([0, -1, 0, 1, -1, 1, -1, 1], device='cuda').to(torch.int32)\n",
    "\n",
    "# enqueue GPU kernel\n",
    "step[grid](X, X.stride(0), X.stride(1), \n",
    "              Y, Y.stride(0), Y.stride(1),\n",
    "              X.shape[0]    , X.shape[1],\n",
    "              8, 8, deltaRs, deltaCs)"
   ]
  },
  {
   "cell_type": "code",
   "execution_count": 7,
   "id": "439acf1b-6224-4365-905e-a44753b2ef55",
   "metadata": {},
   "outputs": [
    {
     "data": {
      "text/plain": [
       "tensor([[0, 1, 1, 1, 1, 1, 1, 0],\n",
       "        [0, 1, 1, 1, 1, 1, 1, 0],\n",
       "        [0, 0, 0, 0, 0, 0, 0, 0],\n",
       "        [0, 0, 0, 0, 0, 0, 0, 0],\n",
       "        [0, 0, 0, 0, 0, 0, 0, 0],\n",
       "        [0, 0, 0, 0, 0, 0, 0, 0],\n",
       "        [0, 0, 0, 0, 0, 0, 0, 0],\n",
       "        [0, 0, 0, 0, 0, 0, 0, 0]], device='cuda:0', dtype=torch.int32)"
      ]
     },
     "execution_count": 7,
     "metadata": {},
     "output_type": "execute_result"
    }
   ],
   "source": [
    "Y"
   ]
  },
  {
   "cell_type": "code",
   "execution_count": 8,
   "id": "b8f9672b-5676-4b14-ba54-e7f908c88e7a",
   "metadata": {},
   "outputs": [],
   "source": [
    "X = torch.normal(0, 1, size=(512, 512), device='cuda')"
   ]
  },
  {
   "cell_type": "code",
   "execution_count": 9,
   "id": "14b6c11f-f8af-49f5-81b8-f213ca2864a8",
   "metadata": {},
   "outputs": [
    {
     "data": {
      "text/plain": [
       "512"
      ]
     },
     "execution_count": 9,
     "metadata": {},
     "output_type": "execute_result"
    }
   ],
   "source": [
    "X.stride(0)"
   ]
  },
  {
   "cell_type": "code",
   "execution_count": 10,
   "id": "0991e9d0-d289-43bc-8587-3b751b72ed84",
   "metadata": {},
   "outputs": [
    {
     "data": {
      "text/plain": [
       "1"
      ]
     },
     "execution_count": 10,
     "metadata": {},
     "output_type": "execute_result"
    }
   ],
   "source": [
    "X.stride(1)"
   ]
  },
  {
   "cell_type": "markdown",
   "id": "030f2527-2f10-40a3-9c97-652560864772",
   "metadata": {},
   "source": [
    "# Running"
   ]
  },
  {
   "cell_type": "code",
   "execution_count": 11,
   "id": "552185d2-f6e7-44c1-81d5-1c4302653bf1",
   "metadata": {},
   "outputs": [],
   "source": [
    "from IPython.display import display, clear_output\n",
    "import time"
   ]
  },
  {
   "cell_type": "code",
   "execution_count": 12,
   "id": "2837fd3f-2cf3-4ca5-9a05-fb1791604e07",
   "metadata": {},
   "outputs": [],
   "source": [
    "def to_string(X):\n",
    "    ret = \"\"\n",
    "\n",
    "    for i in range(X.shape[0]):\n",
    "        for j in range(X.shape[1]):\n",
    "            num = int(X[i][j])\n",
    "            ret += ' ' if num == 0 else 'X'\n",
    "            ret += ' '\n",
    "        ret += '\\n'\n",
    "\n",
    "    return ret"
   ]
  },
  {
   "cell_type": "code",
   "execution_count": 13,
   "id": "03d03ef0-5d42-4000-8545-f974033b3f75",
   "metadata": {},
   "outputs": [
    {
     "name": "stdout",
     "output_type": "stream",
     "text": [
      "                                                                X X X X X X X X X X X X X X X X \n",
      "                                                                X X X X X X X X X X X X X X X X \n",
      "                                                                X X X X X X X X X X X X X X X X \n",
      "                                                                X X X X X X X X X X X X X X X X \n",
      "                                                                X X X X X X X X X X X X X X X X \n",
      "                                                                X X X X X X X X X X X X X X X X \n",
      "                                                                X X X X X X X X X X X X X X X X \n",
      "                                                                X X X X X X X X X X X X X X X X \n",
      "                                                                X X X X X X X X X X X X X X X X \n",
      "                                                                X X X X X X X X X X X X X X X X \n",
      "                                                                X X X X X X X X X X X X X X X X \n",
      "                                                                X X X X X X X X X X X X X X X X \n",
      "                                                                X X X X X X X X X X X X X X X X \n",
      "                                                                X X X X X X X X X X X X X X X X \n",
      "                                                                X X X X X X X X X X X X X X X X \n",
      "                                                                X X X X X X X X X X X X X X X X \n",
      "                                                                X X X X X X X X X X X X X X X X \n",
      "                                                                X X X X X X X X X X X X X X X X \n",
      "                                                                X X X X X X X X X X X X X X X X \n",
      "                                                                X X X X X X X X X X X X X X X X \n",
      "                                                                X X X X X X X X X X X X X X X X \n",
      "                                                                X X X X X X X X X X X X X X X X \n",
      "                                                                X X X X X X X X X X X X X X X X \n",
      "                                                                X X X X X X X X X X X X X X X X \n",
      "                                                                X X X X X X X X X X X X X X X X \n",
      "                                                                X X X X X X X X X X X X X X X X \n",
      "                                                  X   X         X X X X X X X X X X X X X X X X \n",
      "                                                    X X         X X X X X X X X X X X X X X X X \n",
      "                                                    X           X X X X X X X X X X X X X X X X \n",
      "                                                                X X X X X X X X X X X X X X X X \n",
      "                                                                X X X X X X X X X X X X X X X X \n",
      "                                                                X X X X X X X X X X X X X X X X \n",
      "X X X X X X X X X X X X X X X X X X X X X X X X X X X X X X X X X X X X X X X X X X X X X X X X \n",
      "X X X X X X X X X X X X X X X X X X X X X X X X X X X X X X X X X X X X X X X X X X X X X X X X \n",
      "X X X X X X X X X X X X X X X X X X X X X X X X X X X X X X X X X X X X X X X X X X X X X X X X \n",
      "X X X X X X X X X X X X X X X X X X X X X X X X X X X X X X X X X X X X X X X X X X X X X X X X \n",
      "X X X X X X X X X X X X X X X X X X X X X X X X X X X X X X X X X X X X X X X X X X X X X X X X \n",
      "X X X X X X X X X X X X X X X X X X X X X X X X X X X X X X X X X X X X X X X X X X X X X X X X \n",
      "X X X X X X X X X X X X X X X X X X X X X X X X X X X X X X X X X X X X X X X X X X X X X X X X \n",
      "X X X X X X X X X X X X X X X X X X X X X X X X X X X X X X X X X X X X X X X X X X X X X X X X \n",
      "X X X X X X X X X X X X X X X X X X X X X X X X X X X X X X X X X X X X X X X X X X X X X X X X \n",
      "X X X X X X X X X X X X X X X X X X X X X X X X X X X X X X X X X X X X X X X X X X X X X X X X \n",
      "X X X X X X X X X X X X X X X X X X X X X X X X X X X X X X X X X X X X X X X X X X X X X X X X \n",
      "X X X X X X X X X X X X X X X X X X X X X X X X X X X X X X X X X X X X X X X X X X X X X X X X \n",
      "X X X X X X X X X X X X X X X X X X X X X X X X X X X X X X X X X X X X X X X X X X X X X X X X \n",
      "X X X X X X X X X X X X X X X X X X X X X X X X X X X X X X X X X X X X X X X X X X X X X X X X \n",
      "X X X X X X X X X X X X X X X X X X X X X X X X X X X X X X X X X X X X X X X X X X X X X X X X \n",
      "X X X X X X X X X X X X X X X X X X X X X X X X X X X X X X X X X X X X X X X X X X X X X X X X \n",
      "\n"
     ]
    }
   ],
   "source": [
    "# Allocate input/output tensors\n",
    "X = torch.zeros((48, 48), device='cuda').to(torch.int32)\n",
    "\n",
    "X[2][0] = 1\n",
    "X[3][1] = 1\n",
    "X[1][2] = 1\n",
    "X[2][2] = 1\n",
    "X[3][2] = 1\n",
    "\n",
    "Y = torch.empty_like(X, device='cuda').to(torch.int32)\n",
    "# SPMD launch grid\n",
    "grid = (2, 2)\n",
    "\n",
    "# extra params\n",
    "deltaRs = torch.asarray([-1, 0, 1, 0, -1, -1, 1, 1], device='cuda').to(torch.int32)\n",
    "deltaCs = torch.asarray([0, -1, 0, 1, -1, 1, -1, 1], device='cuda').to(torch.int32)\n",
    "\n",
    "for i in range(100):\n",
    "    clear_output(wait=True)\n",
    "    print(to_string(X))\n",
    "    time.sleep(0.1)\n",
    "    \n",
    "    # enqueue GPU kernel\n",
    "    step[grid](X, X.stride(0), X.stride(1), \n",
    "                  Y, Y.stride(0), Y.stride(1),\n",
    "                  X.shape[0]    , X.shape[1],\n",
    "                  16, 16, deltaRs, deltaCs)\n",
    "\n",
    "    X = Y.clone()"
   ]
  },
  {
   "cell_type": "code",
   "execution_count": 14,
   "id": "5eeb7eb8-6c97-4f4d-8cd4-c5a2e96261da",
   "metadata": {},
   "outputs": [
    {
     "name": "stdout",
     "output_type": "stream",
     "text": [
      "                                                                                                                                                                                                        \n",
      "                                                                                                                                                                                                        \n",
      "                                                                                                                                                                                                        \n",
      "                                                                                                                                                                                                        \n",
      "                                                                                                                                                                                                        \n",
      "                                                                                                                                                                                                        \n",
      "                                                                                                                                                                                                        \n",
      "                                                                                                                                                                                                        \n",
      "                                                                                                                                                                                                        \n",
      "                                                                                                                                                                                                        \n",
      "                                                                                                                                                                                                        \n",
      "                                                                                                                                                                                                        \n",
      "                                                                                                                                                                                                        \n",
      "                                                                                                                                                                                                        \n",
      "                                                                                                                                                                                                        \n",
      "                                                                                                                                                                                                        \n",
      "                        X X X           X X X   X X X                                                                   X X X   X X X           X X X   X X X                   X X X                   \n",
      "                  X X X   X X X   X X X   X X X                                                   X X X   X X X   X X X   X X X                   X X X   X X X   X X X   X X X                         \n",
      "    X       X       X       X               X                                                       X               X       X       X       X       X       X               X                           \n",
      "          X                       X       X       X       X                               X                                               X               X                       X               X     \n",
      "X               X               X       X                                                               X       X               X               X               X       X                               \n",
      "                                                                                                                                                                                                        \n",
      "                                                                                                                                                                                                        \n",
      "                                                                                                                                                                                                        \n",
      "                                                                                                                                                                                                        \n",
      "                                                                                                                                                                                                        \n",
      "                                                                                                                                                                                                        \n",
      "                                                                                                                                                                                                        \n",
      "                                                                                                                                                                                                        \n",
      "                                                                                                                                                                                                        \n",
      "                                                                                                                                                                                                        \n",
      "                                                                                                                                                                                                        \n",
      "\n"
     ]
    }
   ],
   "source": [
    "# Allocate input/output tensors\n",
    "X = torch.zeros((32, 100), device='cuda').to(torch.int32)\n",
    "\n",
    "si = 16\n",
    "sj = 16\n",
    "\n",
    "X[si][sj] = 1\n",
    "X[si + 1][sj] = 1\n",
    "X[si + 2][sj] = 1\n",
    "X[si + 1][sj + 1] = 1\n",
    "\n",
    "X[si][sj + 4] = 1\n",
    "X[si + 1][sj + 4] = 1\n",
    "X[si + 2][sj + 4] = 1\n",
    "X[si + 1][sj + 3] = 1\n",
    "\n",
    "X[si + 2][sj + 2] = 1\n",
    "\n",
    "X[si + 3][sj + 1] = 1\n",
    "X[si + 3][sj + 3] = 1\n",
    "\n",
    "X[si + 4][sj + 2] = 1\n",
    "\n",
    "Y = torch.empty_like(X, device='cuda').to(torch.int32)\n",
    "# SPMD launch grid\n",
    "row_blocksize = 16\n",
    "col_blocksize = 16\n",
    "grid = (math.ceil(X.shape[0] / row_blocksize), math.ceil(X.shape[1] / col_blocksize))\n",
    "\n",
    "# extra params\n",
    "deltaRs = torch.asarray([-1, 0, 1, 0, -1, -1, 1, 1], device='cuda').to(torch.int32)\n",
    "deltaCs = torch.asarray([0, -1, 0, 1, -1, 1, -1, 1], device='cuda').to(torch.int32)\n",
    "\n",
    "for i in range(1000):\n",
    "    clear_output(wait=True)\n",
    "    print(to_string(X))\n",
    "    time.sleep(0.05)\n",
    "    \n",
    "    # enqueue GPU kernel\n",
    "    step[grid](X, X.stride(0), X.stride(1), \n",
    "                  Y, Y.stride(0), Y.stride(1),\n",
    "                  X.shape[0]    , X.shape[1],\n",
    "                  row_blocksize, col_blocksize, deltaRs, deltaCs)\n",
    "\n",
    "    X = Y.clone()"
   ]
  },
  {
   "cell_type": "code",
   "execution_count": 284,
   "id": "c4e0c31a-f55a-4d7c-afcf-536210d81e05",
   "metadata": {},
   "outputs": [],
   "source": [
    "@triton.jit\n",
    "def get(current, row, col, stride_crow, stride_ccol, Nrow, Mcol):\n",
    "    if (row < 0 or col < 0) or (row >= Nrow or col >= Mcol):\n",
    "        return 0\n",
    "    return tl.load(current + row * stride_crow + col * stride_ccol)\n",
    "\n",
    "@triton.jit\n",
    "def step(current, stride_crow, stride_ccol, step, stride_srow, stride_scol, Nrow, Mcol, BNrow : tl.constexpr, BMcol : tl.constexpr, deltaRs, deltaCs):\n",
    "    pid_row = tl.program_id(0)\n",
    "    pid_col = tl.program_id(1)\n",
    "\n",
    "    curr_ptr = current + pid_row * BNrow * stride_crow + pid_col * BMcol * stride_ccol\n",
    "\n",
    "    total_i = BNrow\n",
    "    if Nrow - pid_row * BNrow < total_i:\n",
    "        total_i = Nrow - pid_row * BNrow\n",
    "    \n",
    "    total_j = BMcol\n",
    "    if Mcol - pid_col * BMcol < total_j:\n",
    "        total_j = Mcol - pid_col * BMcol\n",
    "    \n",
    "    #i = 0\n",
    "    #while i < BNrow and i + pid_row * BNrow < Nrow:\n",
    "    for i in tl.static_range(BNrow):\n",
    "        #j = 0\n",
    "        for j in tl.static_range(BMcol):\n",
    "            start_offseti = pid_row * BNrow + i\n",
    "            start_offsetj = pid_col * BMcol + j\n",
    "                \n",
    "            cnt = 0\n",
    "            for k in tl.static_range(8):\n",
    "                deltaR = tl.load(deltaRs + k)\n",
    "                deltaC = tl.load(deltaCs + k)\n",
    "                cnt += get(current, start_offseti + deltaR, start_offsetj + deltaC, stride_crow, stride_ccol, Nrow, Mcol)\n",
    "\n",
    "            state = get(current, start_offseti, start_offsetj, stride_crow, stride_ccol, Nrow, Mcol)\n",
    "            new_state = 0\n",
    "            \n",
    "            if state == 0 and cnt == 3:\n",
    "                new_state = 1\n",
    "            elif state == 1 and (cnt == 2 or cnt == 3):\n",
    "                new_state = 1\n",
    "\n",
    "            if start_offseti < Nrow and start_offsetj < Mcol:\n",
    "                tl.store(step + (pid_row * BNrow + i) * stride_srow + (pid_col * BMcol + j) * stride_scol, new_state)\n",
    "            #tl.store(step + (pid_row * BNrow + i) * stride_srow + (pid_col * BMcol + j) * stride_scol, deltaRs + 2)\n",
    "    \n",
    "            #j += 1\n",
    "        #i += 1\n",
    "            \n",
    "    \n",
    "    #tl.store((step + pid_row * BNrow * stride_srow + pid_col * BMcol * stride_scol) + gridblock, data)\n",
    "    "
   ]
  },
  {
   "cell_type": "code",
   "execution_count": null,
   "id": "d3374f68-6379-4c99-9530-09dce6f449db",
   "metadata": {},
   "outputs": [],
   "source": []
  }
 ],
 "metadata": {
  "kernelspec": {
   "display_name": "Python 3 (ipykernel)",
   "language": "python",
   "name": "python3"
  },
  "language_info": {
   "codemirror_mode": {
    "name": "ipython",
    "version": 3
   },
   "file_extension": ".py",
   "mimetype": "text/x-python",
   "name": "python",
   "nbconvert_exporter": "python",
   "pygments_lexer": "ipython3",
   "version": "3.12.3"
  }
 },
 "nbformat": 4,
 "nbformat_minor": 5
}
